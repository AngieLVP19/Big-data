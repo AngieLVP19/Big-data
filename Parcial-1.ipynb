{
 "cells": [
  {
   "cell_type": "markdown",
   "id": "5e0aba48",
   "metadata": {},
   "source": [
    "# Websites and brands covered in this analysis:\n",
    "\n",
    "First, do your research and discuss how to conduct a brand analysis. Then develop an analysis on the fashion trend of underwear and swimwear products. Datasets were created by extracting data from popular retail sites via PromptCloud data extraction solutions. Sites covered are; Amazon, Victoria's Secret, Btemptd, Calvin Klein, Hanky Panky, American Eagle, Macy's, Nordstrom, Topshop USA. "
   ]
  },
  {
   "cell_type": "code",
   "execution_count": 199,
   "id": "865203cc",
   "metadata": {},
   "outputs": [],
   "source": [
    "import io \n",
    "import sys\n",
    "PATH = '/Data'\n",
    "DIR_DATA = '../Data/' #.. Permite acceder la nivel /Data/\n",
    "sys.path.append(PATH) if PATH not in list(sys.path) else None #Inicializa la ruta, reconozca la estructura del notebook, para \n",
    "#No salir del dominio\n",
    "\n",
    "import pandas as pd \n",
    "import numpy as np\n",
    "import matplotlib.pyplot as plt\n",
    "\n",
    "#Librerías para algoritmos de Machine learning\n",
    "from sklearn.decomposition import PCA\n",
    "from sklearn.preprocessing import StandardScaler\n",
    "from sklearn.cluster import KMeans\n",
    "\n",
    "#Librerías para visualización\n",
    "import seaborn as sns\n",
    "%matplotlib inline\n",
    "import time\n"
   ]
  },
  {
   "cell_type": "markdown",
   "id": "11f877c1",
   "metadata": {},
   "source": [
    "## Cargar datasets  (Retailer - Number of rows)"
   ]
  },
  {
   "cell_type": "code",
   "execution_count": 276,
   "id": "547d4421",
   "metadata": {},
   "outputs": [
    {
     "name": "stdout",
     "output_type": "stream",
     "text": [
      "Read csv:  6.369062185287476 sec\n"
     ]
    }
   ],
   "source": [
    "df_list=[] # Cargamos dataset, en forma de lista. \n",
    " \n",
    "start = time.time()\n",
    "\n",
    "aerie_df = pd.read_csv(DIR_DATA + 'ae_com.csv', sep=',')\n",
    "df_list.append(aerie_df)\n",
    "\n",
    "calvin_klein_df = pd.read_csv(DIR_DATA + 'calvinklein_com.csv', sep=',')\n",
    "df_list.append(calvin_klein_df)\n",
    "\n",
    "amazon_df = pd.read_csv(DIR_DATA + 'amazon_com.csv', sep=',')\n",
    "df_list.append(amazon_df)\n",
    "\n",
    "btempted_df = pd.read_csv(DIR_DATA + 'btemptd_com.csv', sep=',')\n",
    "df_list.append(btempted_df)\n",
    "\n",
    "hanky_panky_df = pd.read_csv(DIR_DATA + 'hankypanky_com.csv', sep=',')\n",
    "df_list.append(hanky_panky_df)\n",
    "\n",
    "macys_df = pd.read_csv(DIR_DATA + 'macys_com.csv', sep=',')\n",
    "df_list.append(macys_df)\n",
    "\n",
    "nordstrom_df = pd.read_csv(DIR_DATA + 'shop_nordstrom_com.csv', sep=',')\n",
    "df_list.append(nordstrom_df)\n",
    "\n",
    "topshop_df = pd.read_csv(DIR_DATA + 'us_topshop_com.csv', sep=',')\n",
    "df_list.append(topshop_df)\n",
    "\n",
    "victoriassecret_df = pd.read_csv(DIR_DATA + 'victoriassecret_com.csv', sep=',')\n",
    "df_list.append(victoriassecret_df)\n",
    "\n",
    "end = time.time()\n",
    "print(\"Read csv: \",(end-start),\"sec\")"
   ]
  },
  {
   "cell_type": "markdown",
   "id": "f2f81893",
   "metadata": {},
   "source": [
    "## Unir cada elemento de la lista en un dataframe"
   ]
  },
  {
   "cell_type": "code",
   "execution_count": 277,
   "id": "5912a5fd",
   "metadata": {},
   "outputs": [
    {
     "name": "stdout",
     "output_type": "stream",
     "text": [
      "Unir en DF:  0.6678004264831543 sec\n"
     ]
    }
   ],
   "source": [
    "start = time.time()\n",
    "df_data = pd.DataFrame() # Empty dataframe to merge brand datasets\n",
    "\n",
    "for df in df_list:\n",
    "    df_data = df_data.append(df) #Unión dataframe - En orden - Uno debajo del otro\n",
    "\n",
    "end = time.time()\n",
    "print(\"Unir en DF: \",(end-start),\"sec\")\n"
   ]
  },
  {
   "cell_type": "markdown",
   "id": "dc0bdff2",
   "metadata": {},
   "source": [
    "## Limpieza de datos"
   ]
  },
  {
   "cell_type": "markdown",
   "id": "7cd21258",
   "metadata": {},
   "source": [
    "### Normalizar los valores de los precios\n",
    "La notación utilizada para denotar los precios varía entre los conjuntos de datos. Las columnas price y Maximum retail price (mrb) deben estar en la misma unidad. \n"
   ]
  },
  {
   "cell_type": "code",
   "execution_count": 403,
   "id": "c62c9354",
   "metadata": {},
   "outputs": [
    {
     "data": {
      "text/plain": [
       "product_name        False\n",
       "mrp                 False\n",
       "price               False\n",
       "pdp_url             False\n",
       "brand_name          False\n",
       "product_category    False\n",
       "retailer            False\n",
       "description         False\n",
       "rating               True\n",
       "review_count         True\n",
       "style_attributes     True\n",
       "total_sizes         False\n",
       "available_size      False\n",
       "color                True\n",
       "product_group       False\n",
       "dtype: bool"
      ]
     },
     "execution_count": 403,
     "metadata": {},
     "output_type": "execute_result"
    }
   ],
   "source": [
    "df_data.isnull().any() #Con cualquier dato nulo (True)"
   ]
  },
  {
   "cell_type": "code",
   "execution_count": 342,
   "id": "d4cc3055",
   "metadata": {},
   "outputs": [],
   "source": [
    "#Standardize price values used across datasets\n",
    "import re #A regular expression (or RE) specifies a set of strings that matches it; \n",
    "#the functions in this module let you check if a particular string matches a given regular expression \n",
    "\n",
    "def string_matches(value_str):\n",
    "    if type(value_str) is str: #Se compara que el dato analizado sea tipo string - para realizar la estandarización\n",
    "        #Se eliminan espacios, convierte a minuscula, se elimina cualquier simbolo dollar. \n",
    "        value_str= value_str.strip().lower().replace('usd', '').replace('$','').replace(\"\\-.*\",\"\").strip()\n",
    "        value_str = re.sub(r\"-.*\", \"\", value_str)\n",
    "        value_str = re.sub(r\"–.*\", \"\", value_str)\n",
    "        value_str = re.sub(r\"\\s.*\", \"\", value_str)\n",
    "        value_str.strip()\n",
    "    if \"₡\" in value_str:\n",
    "        value_str = value_str.replace(\"₡\", \"\").strip()\n",
    "        value_str = pd.to_numeric(value_str) * colon_to_dollar_conversion_rate            \n",
    "    elif \"rp\" in value_str:\n",
    "        value_str = value_str.replace(\"rp\", \"\").strip()\n",
    "        value_str = pd.to_numeric(value_str) * ind_rp_to_dollar_conversion_rate                \n",
    "           \n",
    "        return value_str\n",
    "    else:\n",
    "        return value_str\n",
    "    \n",
    "df_data['mrp'] = df_data['mrp'].apply(extract_usd_value).apply(pd.to_numeric)\n",
    "df_data['price'] = df_data['price'].apply(extract_usd_value).apply(pd.to_numeric)"
   ]
  },
  {
   "cell_type": "markdown",
   "id": "336a2df7",
   "metadata": {},
   "source": [
    "## Estandarización de marcas"
   ]
  },
  {
   "cell_type": "code",
   "execution_count": 351,
   "id": "b65ec500",
   "metadata": {},
   "outputs": [
    {
     "data": {
      "text/plain": [
       "<matplotlib.axes._subplots.AxesSubplot at 0x7f2c07cdfe50>"
      ]
     },
     "execution_count": 351,
     "metadata": {},
     "output_type": "execute_result"
    },
    {
     "data": {
      "image/png": "[encoded data removed]",
      "text/plain": [
       "<Figure size 432x288 with 1 Axes>"
      ]
     },
     "metadata": {
      "needs_background": "light"
     },
     "output_type": "display_data"
    }
   ],
   "source": [
    "pd.value_counts(df_data['brand_name']).plot.barh()"
   ]
  },
  {
   "cell_type": "code",
   "execution_count": 352,
   "id": "eb1cea51",
   "metadata": {},
   "outputs": [],
   "source": [
    "def standardize_brand_names(brand_name):\n",
    "    brand_name = brand_name.lower()\n",
    "    brand_name = brand_name.replace(\"-\", \" \")\n",
    "    \n",
    "    if \"hanky\" in brand_name:\n",
    "        brand_name = \"hanky panky\"\n",
    "    elif \"calvin\" in brand_name:\n",
    "        brand_name = \"calvin klein\"\n",
    "    elif \"wacoal\" in brand_name or \"tempt\" in brand_name:\n",
    "        brand_name = \"b.tempt'd\"\n",
    "    elif \"victorias\" in brand_name:\n",
    "        brand_name = \"victoria's secret\"\n",
    "    elif \"aeo\" in brand_name:\n",
    "        brand_name = \"aerie\"\n",
    "    brand_name = brand_name.strip()\n",
    "    return brand_name\n",
    "df_data['brand_name'] = df_data['brand_name'].apply(standardize_brand_names)"
   ]
  },
  {
   "cell_type": "code",
   "execution_count": 353,
   "id": "f2951647",
   "metadata": {},
   "outputs": [
    {
     "data": {
      "text/plain": [
       "victoria's secret         342594\n",
       "victoria's secret pink    110850\n",
       "hanky panky                48286\n",
       "b.tempt'd                  45271\n",
       "calvin klein               31246\n",
       "aerie                      28322\n",
       "us topshop                  3081\n",
       "vanity fair                 2574\n",
       "nordstrom lingerie           870\n",
       "Name: brand_name, dtype: int64"
      ]
     },
     "execution_count": 353,
     "metadata": {},
     "output_type": "execute_result"
    }
   ],
   "source": [
    "brand_counts = pd.value_counts(df_data['brand_name'])\n",
    "brand_counts"
   ]
  },
  {
   "cell_type": "markdown",
   "id": "4dd70283",
   "metadata": {},
   "source": [
    "\n",
    "Nintendo, Sexy Hair, S es probable que procedan del conjunto de datos de Amazon.\n",
    "\n",
    "##### Vemos algunas marcas con registros de un solo dígito. Tenemos que descartarlas porque no tienen datos suficientes para ser útiles.\n"
   ]
  },
  {
   "cell_type": "code",
   "execution_count": 354,
   "id": "e06430c2",
   "metadata": {},
   "outputs": [
    {
     "data": {
      "text/plain": [
       "<matplotlib.axes._subplots.AxesSubplot at 0x7f2c05573190>"
      ]
     },
     "execution_count": 354,
     "metadata": {},
     "output_type": "execute_result"
    },
    {
     "data": {
      "image/png": "[encoded data removed]",
      "text/plain": [
       "<Figure size 432x288 with 1 Axes>"
      ]
     },
     "metadata": {
      "needs_background": "light"
     },
     "output_type": "display_data"
    }
   ],
   "source": [
    "MIN_RECORDS = 100 #Condicionamos el numero minimos de productos por marcas para realizar la eliminación\n",
    "\n",
    "for item in brand_counts.iteritems():\n",
    "    brand = item[0] #Nombre de la marca a comparar\n",
    "    count = item[1] #cantidad de productos de marca a comparar\n",
    "    \n",
    "    if(count < MIN_RECORDS): #Si la cantidad de productos es menor al valor establecido, no se considerará\n",
    "        df_data.drop(df_data[df_data.brand_name == brand].index, inplace=True) \n",
    "        \n",
    "\n",
    "pd.value_counts(df_data['brand_name']).plot.barh()"
   ]
  },
  {
   "cell_type": "markdown",
   "id": "1a3a96b2",
   "metadata": {},
   "source": [
    "##### Analizando la categoría de productos, contemplamos que existen 525 categorias, las cuales representan en algunos casos la linea de producto de cada respectiva marca en particular, i.e. Un bra puede tener diferentes nombres segun la especificación y el tipo de este. "
   ]
  },
  {
   "cell_type": "code",
   "execution_count": 355,
   "id": "b2a99507",
   "metadata": {},
   "outputs": [
    {
     "name": "stdout",
     "output_type": "stream",
     "text": [
      " Categorias: 525 \n"
     ]
    }
   ],
   "source": [
    "product_categories = pd.value_counts(df_data['product_category'])\n",
    "print(\" Categorias: %d \"% (product_categories.shape[0]))"
   ]
  },
  {
   "cell_type": "markdown",
   "id": "284b87bc",
   "metadata": {},
   "source": [
    "Se organiza las categorías en grupos amplios utilizando diccionarios y palabras claves dentro de la descripción y nombre del producto."
   ]
  },
  {
   "cell_type": "code",
   "execution_count": 356,
   "id": "66fcc8db",
   "metadata": {},
   "outputs": [
    {
     "data": {
      "text/plain": [
       "bra                   436367\n",
       "panty                 124253\n",
       "lingerie               39247\n",
       "top                     6077\n",
       "bikini                  5775\n",
       "shapewear               1019\n",
       "hoodie                    93\n",
       "socks                     82\n",
       "leggings                  66\n",
       "bottle                    39\n",
       "baseball hat              27\n",
       "petal                     22\n",
       "kit                       18\n",
       "washed canvas tote         9\n",
       "Name: product_group, dtype: int64"
      ]
     },
     "metadata": {},
     "output_type": "display_data"
    },
    {
     "name": "stdout",
     "output_type": "stream",
     "text": [
      "There are 14 categories! \n"
     ]
    },
    {
     "data": {
      "image/png": "[encoded data removed]",
      "text/plain": [
       "<Figure size 1440x504 with 1 Axes>"
      ]
     },
     "metadata": {
      "needs_background": "light"
     },
     "output_type": "display_data"
    }
   ],
   "source": [
    "categories = {\n",
    "    \"bra\" : [\"bra\", \"push-up\", \"classic\", \"tomgirl\", \"collections\", \"longline\", \"bridget\", \"hannah\", \"audrey\", \"lorna jane\", \"katie\", \"brooke\", \"push\", \"padded\", \"demi\", \"scoop\", \"full coverage\", \"wireless\", \"plunge\"],\n",
    "    \"panty\" : [\"panty\", \"panties\", \"brief\", \"hiphugger\",\"cheekies\", \"thong\", \"hipster\", \"cheekster\", \"short\", \"bottom\", \"undies\"],\n",
    "    \"bikini\" : [\"bikini\", \"triangle\", \"one-piece\", \"one piece\", \"high-neck\", \"hineck\"],\n",
    "    \"top\" : [\"tee\", \"top\", \"tank\", \"halter\", \"bandeau\", \"racerback\", \"cami\", \"crop\"],\n",
    "    \"lingerie\": [\"slip\", \"garter\", \"babydoll\", \"lingerie\", \"teddy\", \"sleepwear\", \"fishnet\", \"robe\", \"kimono\", \"bodysuit\", \"romper\", \"tunic\"],\n",
    "    \"shapewear\": [\"shapewear\", \"bustier\"],\n",
    "    \"socks\" : [\"sock\"],\n",
    "    \"leggings\": [\"legging\"],\n",
    "    \"bottle\": [\"bottle\"],\n",
    "    \"hoodie\" : [\"full-zip\"],\n",
    "    \"kit\" : [\"kit\", \"duffle\"],\n",
    "    \"petal\": [\"petal\"]\n",
    "    \n",
    "}\n",
    "\n",
    "def standardize_product_category(row):\n",
    "    product_category = row[\"product_category\"]\n",
    "    product_name = row[\"product_name\"]\n",
    "    \n",
    "    product_name = product_name.lower()\n",
    "    product_category = product_category.lower()\n",
    "    \n",
    "    for group, items in categories.items():\n",
    "        for item in items:\n",
    "            if item in product_category: #if\n",
    "                return group\n",
    "\n",
    "    for group, items in categories.items():\n",
    "        for item in items:\n",
    "            if item in product_name: #elseif\n",
    "                return group\n",
    "\n",
    "    return product_category #else\n",
    "\n",
    "        \n",
    "\n",
    "df_data[\"product_group\"] = df_data.apply(standardize_product_category, axis=1)\n",
    "\n",
    "product_group = pd.value_counts(df_data['product_group'])\n",
    "display(product_group)\n",
    "print(\"There are %d categories! \"% (product_group.shape[0]))\n",
    "\n",
    "\n",
    "\n",
    "fig,ax = plt.subplots(figsize=(20,7))\n",
    "ax = pd.value_counts(df_data['product_group']).plot.barh()\n",
    "plt.show()"
   ]
  },
  {
   "cell_type": "markdown",
   "id": "c20a626d",
   "metadata": {},
   "source": [
    "#### Algunas de las categorías tienen menos de 100 artículos. Estas categorías no tienen datos suficientes para realizar una comparación eficaz."
   ]
  },
  {
   "cell_type": "code",
   "execution_count": 362,
   "id": "5a2a5313",
   "metadata": {
    "scrolled": false
   },
   "outputs": [
    {
     "data": {
      "text/plain": [
       "bra          436140\n",
       "panty        124123\n",
       "lingerie      39141\n",
       "top            6069\n",
       "bikini         5768\n",
       "shapewear      1016\n",
       "Name: product_group, dtype: int64"
      ]
     },
     "metadata": {},
     "output_type": "display_data"
    }
   ],
   "source": [
    "\n",
    "MIN_RECORDS = 100\n",
    "\n",
    "for item in product_group.iteritems():\n",
    "    category = item[0]\n",
    "    count = item[1]\n",
    "    \n",
    "    if(count < MIN_RECORDS):\n",
    "        df_data.drop(df_data[df_data.product_group == category].index, inplace=True)   \n",
    "product_group = pd.value_counts(df_data['product_group'])\n",
    "\n",
    "display(product_group)"
   ]
  },
  {
   "cell_type": "code",
   "execution_count": 392,
   "id": "1eac22a8",
   "metadata": {},
   "outputs": [
    {
     "data": {
      "image/png": "[encoded data removed]",
      "text/plain": [
       "<Figure size 1440x720 with 1 Axes>"
      ]
     },
     "metadata": {},
     "output_type": "display_data"
    }
   ],
   "source": [
    "fig,ax = plt.subplots(figsize=(20,10))\n",
    "ax = product_group.plot.pie()\n",
    "plt.show()"
   ]
  },
  {
   "cell_type": "markdown",
   "id": "d1ff3581",
   "metadata": {},
   "source": [
    "## ¿Cómo difiere el precio según la marca?"
   ]
  },
  {
   "cell_type": "code",
   "execution_count": 408,
   "id": "a039cccf",
   "metadata": {},
   "outputs": [
    {
     "data": {
      "text/plain": [
       "product_name        False\n",
       "mrp                 False\n",
       "price               False\n",
       "pdp_url             False\n",
       "brand_name          False\n",
       "product_category    False\n",
       "retailer            False\n",
       "description         False\n",
       "rating               True\n",
       "review_count         True\n",
       "style_attributes     True\n",
       "total_sizes         False\n",
       "available_size      False\n",
       "color                True\n",
       "product_group       False\n",
       "dtype: bool"
      ]
     },
     "execution_count": 408,
     "metadata": {},
     "output_type": "execute_result"
    }
   ],
   "source": [
    "df_data.isnull().any() #Con cualquier dato nulo (True)"
   ]
  },
  {
   "cell_type": "code",
   "execution_count": 414,
   "id": "5815fb61",
   "metadata": {
    "scrolled": false
   },
   "outputs": [
    {
     "data": {
      "image/png": "[encoded data removed]",
      "text/plain": [
       "<Figure size 1584x504 with 1 Axes>"
      ]
     },
     "metadata": {
      "needs_background": "light"
     },
     "output_type": "display_data"
    }
   ],
   "source": [
    "fig,ax = plt.subplots(figsize=(22,7))\n",
    "ax = sns.boxplot( x=merged_df[\"mrp\"], y=merged_df[\"brand_name\"], palette = \"hls\").set_title('Gama MRP en todas las marcas')\n",
    "\n",
    "plt.show()\n"
   ]
  },
  {
   "cell_type": "markdown",
   "id": "3c1119fa",
   "metadata": {},
   "source": [
    "Vanity Fair es la marca de lencería más asequible\n",
    "La mayoría de las prendas de lencería pueden comprarse por un precio medio de unos 30-40 dólares y con un precio máximo de 200 dólares. Hanky Panky tiene la lencería más cara. Hay artículos que tienen un precio de 600 USD."
   ]
  },
  {
   "cell_type": "code",
   "execution_count": 421,
   "id": "fc102a06",
   "metadata": {},
   "outputs": [
    {
     "data": {
      "text/html": [
       "<div>\n",
       "<style scoped>\n",
       "    .dataframe tbody tr th:only-of-type {\n",
       "        vertical-align: middle;\n",
       "    }\n",
       "\n",
       "    .dataframe tbody tr th {\n",
       "        vertical-align: top;\n",
       "    }\n",
       "\n",
       "    .dataframe thead th {\n",
       "        text-align: right;\n",
       "    }\n",
       "</style>\n",
       "<table border=\"1\" class=\"dataframe\">\n",
       "  <thead>\n",
       "    <tr style=\"text-align: right;\">\n",
       "      <th></th>\n",
       "      <th>product_name</th>\n",
       "      <th>mrp</th>\n",
       "      <th>price</th>\n",
       "      <th>pdp_url</th>\n",
       "      <th>brand_name</th>\n",
       "      <th>product_category</th>\n",
       "      <th>retailer</th>\n",
       "      <th>description</th>\n",
       "      <th>rating</th>\n",
       "      <th>review_count</th>\n",
       "      <th>style_attributes</th>\n",
       "      <th>total_sizes</th>\n",
       "      <th>available_size</th>\n",
       "      <th>color</th>\n",
       "      <th>product_group</th>\n",
       "    </tr>\n",
       "  </thead>\n",
       "  <tbody>\n",
       "    <tr>\n",
       "      <th>5</th>\n",
       "      <td>30 Pack Original Rise Thongs in Lucite Jar</td>\n",
       "      <td>615.0</td>\n",
       "      <td>615.0</td>\n",
       "      <td>http://www.hankypanky.com/thongs/30-pack-origi...</td>\n",
       "      <td>hanky panky</td>\n",
       "      <td>Thongs</td>\n",
       "      <td>Hankypanky US</td>\n",
       "      <td>For the ultimate Hanky Panky collector! This l...</td>\n",
       "      <td>NaN</td>\n",
       "      <td>NaN</td>\n",
       "      <td>[\"One-size thong in our signature stretch lace...</td>\n",
       "      <td>[\"Select\", \"One Size\"]</td>\n",
       "      <td>[\"Select\", \"One Size\"]</td>\n",
       "      <td>Rainbow</td>\n",
       "      <td>panty</td>\n",
       "    </tr>\n",
       "    <tr>\n",
       "      <th>101</th>\n",
       "      <td>30 Pack Original Rise Thongs in Lucite Jar</td>\n",
       "      <td>615.0</td>\n",
       "      <td>615.0</td>\n",
       "      <td>http://www.hankypanky.com/collections/30-pack-...</td>\n",
       "      <td>hanky panky</td>\n",
       "      <td>Collections</td>\n",
       "      <td>Hankypanky US</td>\n",
       "      <td>For the ultimate Hanky Panky collector! This l...</td>\n",
       "      <td>NaN</td>\n",
       "      <td>NaN</td>\n",
       "      <td>[\"One-size thong in our signature stretch lace...</td>\n",
       "      <td>[\"Select\", \"One Size\"]</td>\n",
       "      <td>[\"Select\", \"One Size\"]</td>\n",
       "      <td>Rainbow</td>\n",
       "      <td>bra</td>\n",
       "    </tr>\n",
       "    <tr>\n",
       "      <th>367</th>\n",
       "      <td>30 Pack Low Rise Thongs in Lucite Jar</td>\n",
       "      <td>615.0</td>\n",
       "      <td>615.0</td>\n",
       "      <td>http://www.hankypanky.com/thongs/30-pack-low-r...</td>\n",
       "      <td>hanky panky</td>\n",
       "      <td>Thongs</td>\n",
       "      <td>Hankypanky US</td>\n",
       "      <td>For the ultimate Hanky Panky collector! This l...</td>\n",
       "      <td>NaN</td>\n",
       "      <td>NaN</td>\n",
       "      <td>[\"One-size thong in our signature stretch lace...</td>\n",
       "      <td>[\"Select\", \"One Size\"]</td>\n",
       "      <td>[\"Select\", \"One Size\"]</td>\n",
       "      <td>Rainbow</td>\n",
       "      <td>panty</td>\n",
       "    </tr>\n",
       "    <tr>\n",
       "      <th>949</th>\n",
       "      <td>Lady Catherine Robe</td>\n",
       "      <td>295.0</td>\n",
       "      <td>295.0</td>\n",
       "      <td>http://www.hankypanky.com/collections/lady-cat...</td>\n",
       "      <td>hanky panky</td>\n",
       "      <td>Collections</td>\n",
       "      <td>Hankypanky US</td>\n",
       "      <td>You'll look like a princess in Lady Catherine.</td>\n",
       "      <td>NaN</td>\n",
       "      <td>NaN</td>\n",
       "      <td>[\"Silk robe \", \" Features eyelash lace at edge...</td>\n",
       "      <td>[\"Select\", \"Petite Small\", \"M-L\"]</td>\n",
       "      <td>[\"Select\", \"Petite Small\", \"M-L\"]</td>\n",
       "      <td>Black</td>\n",
       "      <td>bra</td>\n",
       "    </tr>\n",
       "    <tr>\n",
       "      <th>950</th>\n",
       "      <td>Lady Catherine Robe</td>\n",
       "      <td>295.0</td>\n",
       "      <td>295.0</td>\n",
       "      <td>http://www.hankypanky.com/collections/lady-cat...</td>\n",
       "      <td>hanky panky</td>\n",
       "      <td>Collections</td>\n",
       "      <td>Hankypanky US</td>\n",
       "      <td>You'll look like a princess in Lady Catherine.</td>\n",
       "      <td>NaN</td>\n",
       "      <td>NaN</td>\n",
       "      <td>[\"Silk robe \", \" Features eyelash lace at edge...</td>\n",
       "      <td>[\"Select\", \"Petite Small\", \"M-L\"]</td>\n",
       "      <td>[\"Select\", \"Petite Small\", \"M-L\"]</td>\n",
       "      <td>Light Ivory</td>\n",
       "      <td>bra</td>\n",
       "    </tr>\n",
       "    <tr>\n",
       "      <th>...</th>\n",
       "      <td>...</td>\n",
       "      <td>...</td>\n",
       "      <td>...</td>\n",
       "      <td>...</td>\n",
       "      <td>...</td>\n",
       "      <td>...</td>\n",
       "      <td>...</td>\n",
       "      <td>...</td>\n",
       "      <td>...</td>\n",
       "      <td>...</td>\n",
       "      <td>...</td>\n",
       "      <td>...</td>\n",
       "      <td>...</td>\n",
       "      <td>...</td>\n",
       "      <td>...</td>\n",
       "    </tr>\n",
       "    <tr>\n",
       "      <th>33667</th>\n",
       "      <td>Original Rise Thong Rose Bouquet of 12</td>\n",
       "      <td>300.0</td>\n",
       "      <td>300.0</td>\n",
       "      <td>http://www.hankypanky.com/thongs/original-rise...</td>\n",
       "      <td>hanky panky</td>\n",
       "      <td>Thongs</td>\n",
       "      <td>Hankypanky US</td>\n",
       "      <td>Give the gift that lasts as long as your love ...</td>\n",
       "      <td>NaN</td>\n",
       "      <td>NaN</td>\n",
       "      <td>[\"One-size thong in our signature stretch lace...</td>\n",
       "      <td>[\"One Size\"]</td>\n",
       "      <td>[\"One Size\"]</td>\n",
       "      <td>Red</td>\n",
       "      <td>panty</td>\n",
       "    </tr>\n",
       "    <tr>\n",
       "      <th>34206</th>\n",
       "      <td>30 Pack Low Rise Thongs in Lucite Jar</td>\n",
       "      <td>615.0</td>\n",
       "      <td>615.0</td>\n",
       "      <td>http://www.hankypanky.com/thongs/30-pack-low-r...</td>\n",
       "      <td>hanky panky</td>\n",
       "      <td>Thongs</td>\n",
       "      <td>Hankypanky US</td>\n",
       "      <td>For the ultimate Hanky Panky collector! This l...</td>\n",
       "      <td>NaN</td>\n",
       "      <td>NaN</td>\n",
       "      <td>[\"One-size thong in our signature stretch lace...</td>\n",
       "      <td>[\"One Size\"]</td>\n",
       "      <td>[\"One Size\"]</td>\n",
       "      <td>Rainbow</td>\n",
       "      <td>panty</td>\n",
       "    </tr>\n",
       "    <tr>\n",
       "      <th>34895</th>\n",
       "      <td>Lady Catherine Robe</td>\n",
       "      <td>295.0</td>\n",
       "      <td>295.0</td>\n",
       "      <td>http://www.hankypanky.com/collections/lady-cat...</td>\n",
       "      <td>hanky panky</td>\n",
       "      <td>Collections</td>\n",
       "      <td>Hankypanky US</td>\n",
       "      <td>You'll look like a princess in Lady Catherine.</td>\n",
       "      <td>NaN</td>\n",
       "      <td>NaN</td>\n",
       "      <td>[\"Silk robe \", \" Features eyelash lace at edge...</td>\n",
       "      <td>[\"Petite Small\", \"M-L\"]</td>\n",
       "      <td>[\"Petite Small\", \"M-L\"]</td>\n",
       "      <td>Black</td>\n",
       "      <td>bra</td>\n",
       "    </tr>\n",
       "    <tr>\n",
       "      <th>34896</th>\n",
       "      <td>Lady Catherine Robe</td>\n",
       "      <td>295.0</td>\n",
       "      <td>295.0</td>\n",
       "      <td>http://www.hankypanky.com/collections/lady-cat...</td>\n",
       "      <td>hanky panky</td>\n",
       "      <td>Collections</td>\n",
       "      <td>Hankypanky US</td>\n",
       "      <td>You'll look like a princess in Lady Catherine.</td>\n",
       "      <td>NaN</td>\n",
       "      <td>NaN</td>\n",
       "      <td>[\"Silk robe \", \" Features eyelash lace at edge...</td>\n",
       "      <td>[\"Petite Small\", \"M-L\"]</td>\n",
       "      <td>[\"Petite Small\", \"M-L\"]</td>\n",
       "      <td>Light Ivory</td>\n",
       "      <td>bra</td>\n",
       "    </tr>\n",
       "    <tr>\n",
       "      <th>34970</th>\n",
       "      <td>30 Pack Low Rise Thongs in Lucite Jar</td>\n",
       "      <td>615.0</td>\n",
       "      <td>615.0</td>\n",
       "      <td>http://www.hankypanky.com/collections/30-pack-...</td>\n",
       "      <td>hanky panky</td>\n",
       "      <td>Collections</td>\n",
       "      <td>Hankypanky US</td>\n",
       "      <td>For the ultimate Hanky Panky collector! This l...</td>\n",
       "      <td>NaN</td>\n",
       "      <td>NaN</td>\n",
       "      <td>[\"One-size thong in our signature stretch lace...</td>\n",
       "      <td>[\"One Size\"]</td>\n",
       "      <td>[\"One Size\"]</td>\n",
       "      <td>Rainbow</td>\n",
       "      <td>bra</td>\n",
       "    </tr>\n",
       "  </tbody>\n",
       "</table>\n",
       "<p>155 rows × 15 columns</p>\n",
       "</div>"
      ],
      "text/plain": [
       "                                     product_name    mrp  price  \\\n",
       "5      30 Pack Original Rise Thongs in Lucite Jar  615.0  615.0   \n",
       "101    30 Pack Original Rise Thongs in Lucite Jar  615.0  615.0   \n",
       "367         30 Pack Low Rise Thongs in Lucite Jar  615.0  615.0   \n",
       "949                           Lady Catherine Robe  295.0  295.0   \n",
       "950                           Lady Catherine Robe  295.0  295.0   \n",
       "...                                           ...    ...    ...   \n",
       "33667      Original Rise Thong Rose Bouquet of 12  300.0  300.0   \n",
       "34206       30 Pack Low Rise Thongs in Lucite Jar  615.0  615.0   \n",
       "34895                         Lady Catherine Robe  295.0  295.0   \n",
       "34896                         Lady Catherine Robe  295.0  295.0   \n",
       "34970       30 Pack Low Rise Thongs in Lucite Jar  615.0  615.0   \n",
       "\n",
       "                                                 pdp_url   brand_name  \\\n",
       "5      http://www.hankypanky.com/thongs/30-pack-origi...  hanky panky   \n",
       "101    http://www.hankypanky.com/collections/30-pack-...  hanky panky   \n",
       "367    http://www.hankypanky.com/thongs/30-pack-low-r...  hanky panky   \n",
       "949    http://www.hankypanky.com/collections/lady-cat...  hanky panky   \n",
       "950    http://www.hankypanky.com/collections/lady-cat...  hanky panky   \n",
       "...                                                  ...          ...   \n",
       "33667  http://www.hankypanky.com/thongs/original-rise...  hanky panky   \n",
       "34206  http://www.hankypanky.com/thongs/30-pack-low-r...  hanky panky   \n",
       "34895  http://www.hankypanky.com/collections/lady-cat...  hanky panky   \n",
       "34896  http://www.hankypanky.com/collections/lady-cat...  hanky panky   \n",
       "34970  http://www.hankypanky.com/collections/30-pack-...  hanky panky   \n",
       "\n",
       "      product_category       retailer  \\\n",
       "5               Thongs  Hankypanky US   \n",
       "101        Collections  Hankypanky US   \n",
       "367             Thongs  Hankypanky US   \n",
       "949        Collections  Hankypanky US   \n",
       "950        Collections  Hankypanky US   \n",
       "...                ...            ...   \n",
       "33667           Thongs  Hankypanky US   \n",
       "34206           Thongs  Hankypanky US   \n",
       "34895      Collections  Hankypanky US   \n",
       "34896      Collections  Hankypanky US   \n",
       "34970      Collections  Hankypanky US   \n",
       "\n",
       "                                             description  rating  \\\n",
       "5      For the ultimate Hanky Panky collector! This l...     NaN   \n",
       "101    For the ultimate Hanky Panky collector! This l...     NaN   \n",
       "367    For the ultimate Hanky Panky collector! This l...     NaN   \n",
       "949       You'll look like a princess in Lady Catherine.     NaN   \n",
       "950       You'll look like a princess in Lady Catherine.     NaN   \n",
       "...                                                  ...     ...   \n",
       "33667  Give the gift that lasts as long as your love ...     NaN   \n",
       "34206  For the ultimate Hanky Panky collector! This l...     NaN   \n",
       "34895     You'll look like a princess in Lady Catherine.     NaN   \n",
       "34896     You'll look like a princess in Lady Catherine.     NaN   \n",
       "34970  For the ultimate Hanky Panky collector! This l...     NaN   \n",
       "\n",
       "       review_count                                   style_attributes  \\\n",
       "5               NaN  [\"One-size thong in our signature stretch lace...   \n",
       "101             NaN  [\"One-size thong in our signature stretch lace...   \n",
       "367             NaN  [\"One-size thong in our signature stretch lace...   \n",
       "949             NaN  [\"Silk robe \", \" Features eyelash lace at edge...   \n",
       "950             NaN  [\"Silk robe \", \" Features eyelash lace at edge...   \n",
       "...             ...                                                ...   \n",
       "33667           NaN  [\"One-size thong in our signature stretch lace...   \n",
       "34206           NaN  [\"One-size thong in our signature stretch lace...   \n",
       "34895           NaN  [\"Silk robe \", \" Features eyelash lace at edge...   \n",
       "34896           NaN  [\"Silk robe \", \" Features eyelash lace at edge...   \n",
       "34970           NaN  [\"One-size thong in our signature stretch lace...   \n",
       "\n",
       "                             total_sizes                     available_size  \\\n",
       "5                 [\"Select\", \"One Size\"]             [\"Select\", \"One Size\"]   \n",
       "101               [\"Select\", \"One Size\"]             [\"Select\", \"One Size\"]   \n",
       "367               [\"Select\", \"One Size\"]             [\"Select\", \"One Size\"]   \n",
       "949    [\"Select\", \"Petite Small\", \"M-L\"]  [\"Select\", \"Petite Small\", \"M-L\"]   \n",
       "950    [\"Select\", \"Petite Small\", \"M-L\"]  [\"Select\", \"Petite Small\", \"M-L\"]   \n",
       "...                                  ...                                ...   \n",
       "33667                       [\"One Size\"]                       [\"One Size\"]   \n",
       "34206                       [\"One Size\"]                       [\"One Size\"]   \n",
       "34895            [\"Petite Small\", \"M-L\"]            [\"Petite Small\", \"M-L\"]   \n",
       "34896            [\"Petite Small\", \"M-L\"]            [\"Petite Small\", \"M-L\"]   \n",
       "34970                       [\"One Size\"]                       [\"One Size\"]   \n",
       "\n",
       "             color product_group  \n",
       "5          Rainbow         panty  \n",
       "101        Rainbow           bra  \n",
       "367        Rainbow         panty  \n",
       "949          Black           bra  \n",
       "950    Light Ivory           bra  \n",
       "...            ...           ...  \n",
       "33667          Red         panty  \n",
       "34206      Rainbow         panty  \n",
       "34895        Black           bra  \n",
       "34896  Light Ivory           bra  \n",
       "34970      Rainbow           bra  \n",
       "\n",
       "[155 rows x 15 columns]"
      ]
     },
     "execution_count": 421,
     "metadata": {},
     "output_type": "execute_result"
    }
   ],
   "source": [
    "df_data[df_data[\"mrp\"] > 200]"
   ]
  },
  {
   "cell_type": "markdown",
   "id": "5cf29328",
   "metadata": {},
   "source": [
    "Resulta que todos son paquetes de 30 tangas. Lo que hace que cada prenda de ropa interior cueste alrededor de 20 dólares. "
   ]
  },
  {
   "cell_type": "code",
   "execution_count": 522,
   "id": "641f441c",
   "metadata": {
    "scrolled": false
   },
   "outputs": [
    {
     "data": {
      "image/png": "[encoded data removed]",
      "text/plain": [
       "<Figure size 1440x576 with 1 Axes>"
      ]
     },
     "metadata": {
      "needs_background": "light"
     },
     "output_type": "display_data"
    },
    {
     "data": {
      "image/png": "[encoded data removed]",
      "text/plain": [
       "<Figure size 1440x576 with 1 Axes>"
      ]
     },
     "metadata": {
      "needs_background": "light"
     },
     "output_type": "display_data"
    },
    {
     "data": {
      "image/png": "[encoded data removed]",
      "text/plain": [
       "<Figure size 1440x576 with 1 Axes>"
      ]
     },
     "metadata": {
      "needs_background": "light"
     },
     "output_type": "display_data"
    },
    {
     "data": {
      "image/png": "[encoded data removed]",
      "text/plain": [
       "<Figure size 1440x576 with 1 Axes>"
      ]
     },
     "metadata": {
      "needs_background": "light"
     },
     "output_type": "display_data"
    },
    {
     "data": {
      "image/png": "[encoded data removed]",
      "text/plain": [
       "<Figure size 1440x576 with 1 Axes>"
      ]
     },
     "metadata": {
      "needs_background": "light"
     },
     "output_type": "display_data"
    },
    {
     "data": {
      "image/png": "[encoded data removed]",
      "text/plain": [
       "<Figure size 1440x576 with 1 Axes>"
      ]
     },
     "metadata": {
      "needs_background": "light"
     },
     "output_type": "display_data"
    }
   ],
   "source": [
    "import matplotlib as plt\n",
    "from matplotlib import *\n",
    "\n",
    "product_group = pd.value_counts(df_data['product_group'])\n",
    "\n",
    "for item in product_group.iteritems():\n",
    "    category = item[0]\n",
    "    \n",
    "    product_group_df = df_data[df_data[\"product_group\"] == category]\n",
    "    \n",
    "\n",
    "    \n",
    "    pyplt.figure(figsize=(20, 8))\n",
    "    title = \"Gama MRP en todas las marcas por \"+ category \n",
    "    sns.boxplot( x=\"mrp\", y=\"brand_name\", data=product_group_df).set_title(title)\n"
   ]
  },
  {
   "cell_type": "markdown",
   "id": "b1bb6a32",
   "metadata": {},
   "source": [
    "Aquí la mayor competencia se da entre los brasieres y las pantaletas. En este conjunto de datos no hay mucha elección en cuanto a la ropa interior. Todas las marcas parecen tener rangos de precios bastante comparables para los brasieres y las pantaletas. Hanky Panky tiene algunos artículos más caros, sin incluir el paquete de 20/30 de ropa interior"
   ]
  },
  {
   "cell_type": "markdown",
   "id": "c48829df",
   "metadata": {},
   "source": [
    "## What are the most common color used by different brands?"
   ]
  },
  {
   "cell_type": "code",
   "execution_count": 493,
   "id": "98952e96",
   "metadata": {},
   "outputs": [
    {
     "data": {
      "text/plain": [
       "Black                       36913\n",
       "White                       18068\n",
       "black                       13121\n",
       "pure black                   7083\n",
       "Ensign                       6738\n",
       "                            ...  \n",
       "All Over Lace Shock Pink        1\n",
       "Gray Colorblock                 1\n",
       "Black Coffee                    1\n",
       "Flash                           1\n",
       "BLUE PULSE                      1\n",
       "Name: color, Length: 2528, dtype: int64"
      ]
     },
     "execution_count": 493,
     "metadata": {},
     "output_type": "execute_result"
    }
   ],
   "source": [
    " pd.value_counts(df_data[\"color\"])"
   ]
  },
  {
   "cell_type": "code",
   "execution_count": 501,
   "id": "0d2e0070",
   "metadata": {
    "scrolled": true
   },
   "outputs": [
    {
     "data": {
      "text/plain": [
       "black                       115227\n",
       "white                        69733\n",
       "blue                         52789\n",
       "pink                         51950\n",
       "red                          42730\n",
       "                             ...  \n",
       "astonish                         1\n",
       "neon calypso                     1\n",
       "null                             1\n",
       "peacoat/polka dot accent         1\n",
       "tanimal all over lace            1\n",
       "Name: color_group, Length: 834, dtype: int64"
      ]
     },
     "metadata": {},
     "output_type": "display_data"
    },
    {
     "name": "stdout",
     "output_type": "stream",
     "text": [
      "There are 834 categories! \n"
     ]
    },
    {
     "name": "stderr",
     "output_type": "stream",
     "text": [
      "<ipython-input-501-713bab8ffd8f>:39: FutureWarning: The signature of `Series.to_csv` was aligned to that of `DataFrame.to_csv`, and argument 'header' will change its default value from False to True: please pass an explicit value to suppress this warning.\n",
      "  color_group.to_csv('color_mania.csv')\n"
     ]
    }
   ],
   "source": [
    "categories = {\n",
    "    \"green\" : [\"green\", \"emerald\", \"fir\", \"bayberry\"],\n",
    "    \"blue\" : [\"blue\", \"navy\", \"teal\", \"denim\", \"azure\", \"celeste\", \"turkish\", \"sea\"],\n",
    "    \"white\" : [\"white\", \"ivory\", \"cashew\", \"coconut\", \"marshmallow\"],\n",
    "    \"black\" : [\"black\", \"midnight\", \"night\"],\n",
    "    \"red\": [\"red\", \"candy apple\", \"ginger glaze\", \"plum\", \"maroon\", \"ruby\",\"cherry\", \"strawberry\"],\n",
    "    \"yellow\": [\"yellow\", \"gold\"],\n",
    "    \"orange\" : [\"orange\"],\n",
    "    \"pink\": [\"pink\", \"rosewater\", \"fuschia\", \"blush\", \"peach\", \"lotus\"],\n",
    "     \"nude\" : [\"nude\", \"bare\", \"champagne\"],\n",
    "    \"gray\" : [\"gray\", \"grey\", \"pewter\", \"slate\", \"silver\"],\n",
    "    \"brown\" : [\"brown\", \"taupe\", \"chai\", \"cappuccino\", \"sienna\", \"toast\", \"french roast\"],\n",
    "    \"maroon\" : [\"maroon\"],\n",
    "    \"purple\" : [\"mauve\", \"lilac\", \"purple\", \"violet\", \"grape\"]\n",
    "    \n",
    "}\n",
    "\n",
    "def standardize_color_group(color):\n",
    "    color_category = color\n",
    "    \n",
    "    try:\n",
    "        color_category = color_category.lower()\n",
    "\n",
    "        for group, items in categories.items():\n",
    "            for item in items:\n",
    "                if item in color_category:\n",
    "                    return group\n",
    "    except:\n",
    "        print(color_category)\n",
    "        \n",
    "    return color_category\n",
    "\n",
    "df_data['color'] = df_data['color'].fillna('unknown')\n",
    "df_data[\"color_group\"] = df_data['color'].apply(standardize_color_group)\n",
    "\n",
    "color_group = pd.value_counts(df_data['color_group'])\n",
    "display(color_group)\n",
    "print(\"There are %d categories! \"% (color_group.shape[0]))\n",
    "color_group.to_csv('color_mania.csv')\n"
   ]
  },
  {
   "cell_type": "markdown",
   "id": "d847d6ef",
   "metadata": {},
   "source": [
    "## El color que mayor uso tiene sin importar la marca es el negro con 115.227"
   ]
  },
  {
   "cell_type": "code",
   "execution_count": 496,
   "id": "e35e2e4d",
   "metadata": {},
   "outputs": [
    {
     "data": {
      "text/plain": [
       "<matplotlib.axes._subplots.AxesSubplot at 0x7f2c0f1e1fd0>"
      ]
     },
     "execution_count": 496,
     "metadata": {},
     "output_type": "execute_result"
    },
    {
     "data": {
      "image/png": "[encoded data removed]",
      "text/plain": [
       "<Figure size 432x288 with 1 Axes>"
      ]
     },
     "metadata": {
      "needs_background": "light"
     },
     "output_type": "display_data"
    }
   ],
   "source": [
    "df_data.groupby([\"brand_name\"])[\"color_group\"].nunique().plot.bar(title='#Colors supported by brand')"
   ]
  },
  {
   "cell_type": "code",
   "execution_count": 497,
   "id": "a827091d",
   "metadata": {},
   "outputs": [
    {
     "data": {
      "text/plain": [
       "Text(0.5, 0, '#colors per product type')"
      ]
     },
     "execution_count": 497,
     "metadata": {},
     "output_type": "execute_result"
    },
    {
     "data": {
      "image/png": "[encoded data removed]",
      "text/plain": [
       "<Figure size 432x288 with 1 Axes>"
      ]
     },
     "metadata": {
      "needs_background": "light"
     },
     "output_type": "display_data"
    }
   ],
   "source": [
    "color_count_df = df_data.groupby([\"brand_name\", \"product_group\"]).color_group.nunique()\n",
    "color_count_df = color_count_df.reset_index()\n",
    "plot = sns.boxplot(x='color_group', y='brand_name', data=color_count_df)\n",
    "plot.set_title(\"#Colors per product group vs brand\")\n",
    "plot.set_xlabel('#colors per product type')"
   ]
  },
  {
   "cell_type": "code",
   "execution_count": 498,
   "id": "e4635608",
   "metadata": {
    "scrolled": true
   },
   "outputs": [
    {
     "data": {
      "text/plain": [
       "Text(0, 0.5, '#colors for product group')"
      ]
     },
     "execution_count": 498,
     "metadata": {},
     "output_type": "execute_result"
    },
    {
     "data": {
      "image/png": "[encoded data removed]",
      "text/plain": [
       "<Figure size 432x288 with 1 Axes>"
      ]
     },
     "metadata": {
      "needs_background": "light"
     },
     "output_type": "display_data"
    }
   ],
   "source": [
    "plot = sns.boxplot(x='product_group', y='color_group', data=color_count_df)\n",
    "plot.set_title(\"#Colors supported across brands vs product group\")\n",
    "plot.set_ylabel('#colors for product group')"
   ]
  },
  {
   "cell_type": "markdown",
   "id": "794190b6",
   "metadata": {},
   "source": [
    "## What are the ratings like across brands ?"
   ]
  },
  {
   "cell_type": "code",
   "execution_count": 503,
   "id": "2a17038a",
   "metadata": {},
   "outputs": [
    {
     "data": {
      "text/plain": [
       "4.4    37103\n",
       "4.3    29563\n",
       "4.5    25065\n",
       "5.0    20133\n",
       "4.2    17798\n",
       "4.0    17781\n",
       "4.6    13444\n",
       "4.7     8820\n",
       "3.7     8673\n",
       "3.9     8033\n",
       "4.1     7790\n",
       "3.8     7504\n",
       "4.8     6741\n",
       "3.6     5060\n",
       "3.2     4300\n",
       "4.9     3380\n",
       "3.3     2827\n",
       "3.5     2471\n",
       "3.0     2133\n",
       "1.0     1184\n",
       "2.0      509\n",
       "3.1      503\n",
       "3.4      459\n",
       "2.9      448\n",
       "2.8      360\n",
       "2.6      339\n",
       "2.5      244\n",
       "2.7      161\n",
       "1.5      160\n",
       "0.0      124\n",
       "2.4       52\n",
       "2.3       34\n",
       "2.2        8\n",
       "2.1        8\n",
       "1.7        8\n",
       "Name: rating, dtype: int64"
      ]
     },
     "execution_count": 503,
     "metadata": {},
     "output_type": "execute_result"
    }
   ],
   "source": [
    "pd.value_counts(df_data['rating'])"
   ]
  },
  {
   "cell_type": "code",
   "execution_count": 505,
   "id": "381375af",
   "metadata": {
    "scrolled": true
   },
   "outputs": [
    {
     "data": {
      "text/plain": [
       "Text(0, 0.5, 'Brand')"
      ]
     },
     "execution_count": 505,
     "metadata": {},
     "output_type": "execute_result"
    },
    {
     "data": {
      "image/png": "[encoded data removed]",
      "text/plain": [
       "<Figure size 1080x576 with 1 Axes>"
      ]
     },
     "metadata": {
      "needs_background": "light"
     },
     "output_type": "display_data"
    }
   ],
   "source": [
    "pyplt.figure(figsize=(15,8))\n",
    "plot = sns.boxplot(x='brand_name', y='rating', data=df_data)\n",
    "plot.set_title(\"Rating range for each brand\")\n",
    "plot.set_ylabel('Brand')"
   ]
  },
  {
   "cell_type": "markdown",
   "id": "ec628433",
   "metadata": {},
   "source": [
    "## La lencería de Nordstrom no está bien valorada aquí. Victoria's Secret parece tener una puntuación más baja que marcas como Hanky Panky. Sin embargo, también tiene un inventario muy grande, en comparación con otras marcas, lo que podría sesgar los resultados. A primera vista, me inclino por comprar en Hanky Panky en lugar de otras marcas."
   ]
  },
  {
   "cell_type": "code",
   "execution_count": null,
   "id": "afd6020d",
   "metadata": {},
   "outputs": [],
   "source": [
    "product_group = pd.value_counts(merged_df['product_group'])\n",
    "\n",
    "for item in product_group.iteritems():\n",
    "    category = item[0]\n",
    "    \n",
    "    product_group_df = merged_df[merged_df[\"product_group\"] == category]\n",
    "    plt.pyplot.figure()\n",
    "    title = \"Ratings range across brands for \"+ category \n",
    "    sns.boxplot( x=product_group_df[\"rating\"], y=product_group_df[\"brand_name\"], palette = \"Pastel2\").set_title(title)"
   ]
  },
  {
   "cell_type": "markdown",
   "id": "f1528c83",
   "metadata": {},
   "source": [
    "## Hanky Panky parece muy bien valorada incluso entre las categorías de bragas y sujetadores. Algunas sorpresas fueron Aerie y Calvin Klein, que parecen hacerlo ligeramente mejor que Victoria Secrets."
   ]
  },
  {
   "cell_type": "markdown",
   "id": "2294307f",
   "metadata": {},
   "source": [
    "## Multivariate analysis"
   ]
  },
  {
   "cell_type": "code",
   "execution_count": 553,
   "id": "d2e5df6f",
   "metadata": {},
   "outputs": [
    {
     "data": {
      "text/plain": [
       "Text(0.5, 0.98, 'Análisis de correlación entre las variables')"
      ]
     },
     "execution_count": 553,
     "metadata": {},
     "output_type": "execute_result"
    },
    {
     "data": {
      "image/png": "[encoded data removed]",
      "text/plain": [
       "<Figure size 1008x576 with 2 Axes>"
      ]
     },
     "metadata": {
      "needs_background": "light"
     },
     "output_type": "display_data"
    }
   ],
   "source": [
    "fig, (ax) = pyplt.subplots(1, 1, figsize=(14,8)) \n",
    "hm = sns.heatmap(df_data.corr(), ax=ax, cmap=\"bwr\", annot=True, fmt='.2f', linewidths=.05)\n",
    "fig.subplots_adjust(top=0.93)\n",
    "fig.suptitle('Análisis de correlación entre las variables', fontsize=14, fontweight='bold')"
   ]
  },
  {
   "cell_type": "code",
   "execution_count": null,
   "id": "8ce26862",
   "metadata": {},
   "outputs": [
    {
     "data": {
      "text/plain": [
       "<seaborn.axisgrid.PairGrid at 0x7f2c03717af0>"
      ]
     },
     "execution_count": 692,
     "metadata": {},
     "output_type": "execute_result"
    }
   ],
   "source": [
    "sns.pairplot(df_data, hue = 'product_group')"
   ]
  },
  {
   "cell_type": "code",
   "execution_count": 614,
   "id": "13cda084",
   "metadata": {},
   "outputs": [
    {
     "data": {
      "text/plain": [
       "<matplotlib.axes._subplots.AxesSubplot at 0x7f2c04f14d30>"
      ]
     },
     "execution_count": 614,
     "metadata": {},
     "output_type": "execute_result"
    },
    {
     "data": {
      "image/png": "[encoded data removed]",
      "text/plain": [
       "<Figure size 432x288 with 1 Axes>"
      ]
     },
     "metadata": {
      "needs_background": "light"
     },
     "output_type": "display_data"
    }
   ],
   "source": [
    "vf_rating = pd.value_counts(df_data['rating'])\n",
    "vf_rating\n",
    "rating_mean = df_data.rating.drop(df_data[df_data['rating']== 'unknown'].index).mean()\n",
    "df_data['rating'] = df_data['rating'].replace('unknown',rating_mean)\n",
    "df_data['rating'].plot.kde()"
   ]
  },
  {
   "cell_type": "code",
   "execution_count": 625,
   "id": "872d7a87",
   "metadata": {},
   "outputs": [
    {
     "data": {
      "text/plain": [
       "<matplotlib.axes._subplots.AxesSubplot at 0x7f2c08102070>"
      ]
     },
     "execution_count": 625,
     "metadata": {},
     "output_type": "execute_result"
    },
    {
     "data": {
      "image/png": "[encoded data removed]",
      "text/plain": [
       "<Figure size 432x288 with 1 Axes>"
      ]
     },
     "metadata": {
      "needs_background": "light"
     },
     "output_type": "display_data"
    }
   ],
   "source": [
    "vf_view = pd.value_counts(df_data['review_count'])\n",
    "x = df_data.review_count.dropna()\n",
    "df_data.review_count = df_data.review_count.fillna(x.mean())\n",
    "\n",
    "df_data.review_count.plot.kde()\n"
   ]
  },
  {
   "cell_type": "code",
   "execution_count": 629,
   "id": "d548e66e",
   "metadata": {},
   "outputs": [
    {
     "data": {
      "text/plain": [
       "array([[ 1.00000163,  0.91495969,  0.01414394, -0.02131683],\n",
       "       [ 0.91495969,  1.00000163, -0.01542501, -0.0214555 ],\n",
       "       [ 0.01414394, -0.01542501,  1.00000163, -0.37321018],\n",
       "       [-0.02131683, -0.0214555 , -0.37321018,  1.00000163]])"
      ]
     },
     "execution_count": 629,
     "metadata": {},
     "output_type": "execute_result"
    }
   ],
   "source": [
    "scaler = StandardScaler()\n",
    "scaled = scaler.fit_transform(\n",
    "    df_data[['price', 'mrp', 'rating', 'review_count']].values\n",
    "    )\n",
    "scaled\n",
    "covariance_matrix = np.cov(scaled.T)\n",
    "covariance_matrix\n"
   ]
  },
  {
   "cell_type": "code",
   "execution_count": 630,
   "id": "b33e2476",
   "metadata": {},
   "outputs": [],
   "source": [
    "eigen_values, eigen_vectors = np.linalg.eig(covariance_matrix)"
   ]
  },
  {
   "cell_type": "code",
   "execution_count": 631,
   "id": "9a74d0a6",
   "metadata": {},
   "outputs": [
    {
     "data": {
      "text/plain": [
       "array([1.91613039, 0.08446702, 0.62682128, 1.37258785])"
      ]
     },
     "execution_count": 631,
     "metadata": {},
     "output_type": "execute_result"
    }
   ],
   "source": [
    "eigen_values\n"
   ]
  },
  {
   "cell_type": "code",
   "execution_count": 632,
   "id": "200d31ef",
   "metadata": {},
   "outputs": [
    {
     "data": {
      "text/plain": [
       "array([[ 0.70660715,  0.70665395, -0.03145344,  0.01890019],\n",
       "       [ 0.706369  , -0.7069371 ,  0.00726043,  0.03507225],\n",
       "       [ 0.01493099, -0.02743233, -0.70602007, -0.70750279],\n",
       "       [-0.03906713, -0.01129623, -0.70745575,  0.70558665]])"
      ]
     },
     "execution_count": 632,
     "metadata": {},
     "output_type": "execute_result"
    }
   ],
   "source": [
    "eigen_vectors"
   ]
  },
  {
   "cell_type": "code",
   "execution_count": 634,
   "id": "a8c1785a",
   "metadata": {},
   "outputs": [
    {
     "name": "stdout",
     "output_type": "stream",
     "text": [
      "[47.90318140743302, 2.111672073927358, 15.67050632741602, 34.314640191223624]\n"
     ]
    }
   ],
   "source": [
    "variance_explained = []\n",
    "for i in eigen_values:\n",
    "    variance_explained.append((i/sum(eigen_values))*100)\n",
    "\n",
    "print(variance_explained)"
   ]
  },
  {
   "cell_type": "markdown",
   "id": "d171a020",
   "metadata": {},
   "source": [
    "  ## Las dos variables que guardan mayor covarianza son  ['price' , 'review_count]"
   ]
  },
  {
   "cell_type": "code",
   "execution_count": 710,
   "id": "76b6917c",
   "metadata": {
    "scrolled": true
   },
   "outputs": [
    {
     "name": "stdout",
     "output_type": "stream",
     "text": [
      "(612257, 4)\n"
     ]
    },
    {
     "data": {
      "text/html": [
       "<div>\n",
       "<style scoped>\n",
       "    .dataframe tbody tr th:only-of-type {\n",
       "        vertical-align: middle;\n",
       "    }\n",
       "\n",
       "    .dataframe tbody tr th {\n",
       "        vertical-align: top;\n",
       "    }\n",
       "\n",
       "    .dataframe thead th {\n",
       "        text-align: right;\n",
       "    }\n",
       "</style>\n",
       "<table border=\"1\" class=\"dataframe\">\n",
       "  <thead>\n",
       "    <tr style=\"text-align: right;\">\n",
       "      <th></th>\n",
       "      <th>mrp</th>\n",
       "      <th>price</th>\n",
       "      <th>rating</th>\n",
       "      <th>review_count</th>\n",
       "    </tr>\n",
       "  </thead>\n",
       "  <tbody>\n",
       "    <tr>\n",
       "      <th>0</th>\n",
       "      <td>12.5</td>\n",
       "      <td>12.5</td>\n",
       "      <td>5.0000</td>\n",
       "      <td>8.000000e+00</td>\n",
       "    </tr>\n",
       "    <tr>\n",
       "      <th>1</th>\n",
       "      <td>12.5</td>\n",
       "      <td>12.5</td>\n",
       "      <td>5.0000</td>\n",
       "      <td>8.000000e+00</td>\n",
       "    </tr>\n",
       "    <tr>\n",
       "      <th>2</th>\n",
       "      <td>12.5</td>\n",
       "      <td>12.5</td>\n",
       "      <td>5.0000</td>\n",
       "      <td>8.000000e+00</td>\n",
       "    </tr>\n",
       "    <tr>\n",
       "      <th>3</th>\n",
       "      <td>12.5</td>\n",
       "      <td>12.5</td>\n",
       "      <td>5.0000</td>\n",
       "      <td>8.000000e+00</td>\n",
       "    </tr>\n",
       "    <tr>\n",
       "      <th>4</th>\n",
       "      <td>12.5</td>\n",
       "      <td>12.5</td>\n",
       "      <td>5.0000</td>\n",
       "      <td>8.000000e+00</td>\n",
       "    </tr>\n",
       "    <tr>\n",
       "      <th>...</th>\n",
       "      <td>...</td>\n",
       "      <td>...</td>\n",
       "      <td>...</td>\n",
       "      <td>...</td>\n",
       "    </tr>\n",
       "    <tr>\n",
       "      <th>453381</th>\n",
       "      <td>48.0</td>\n",
       "      <td>48.0</td>\n",
       "      <td>4.1883</td>\n",
       "      <td>5.716612e+35</td>\n",
       "    </tr>\n",
       "    <tr>\n",
       "      <th>453382</th>\n",
       "      <td>48.0</td>\n",
       "      <td>48.0</td>\n",
       "      <td>4.1883</td>\n",
       "      <td>5.716612e+35</td>\n",
       "    </tr>\n",
       "    <tr>\n",
       "      <th>453383</th>\n",
       "      <td>48.0</td>\n",
       "      <td>48.0</td>\n",
       "      <td>4.1883</td>\n",
       "      <td>5.716612e+35</td>\n",
       "    </tr>\n",
       "    <tr>\n",
       "      <th>453384</th>\n",
       "      <td>48.0</td>\n",
       "      <td>48.0</td>\n",
       "      <td>4.1883</td>\n",
       "      <td>5.716612e+35</td>\n",
       "    </tr>\n",
       "    <tr>\n",
       "      <th>453385</th>\n",
       "      <td>48.0</td>\n",
       "      <td>48.0</td>\n",
       "      <td>4.1883</td>\n",
       "      <td>5.716612e+35</td>\n",
       "    </tr>\n",
       "  </tbody>\n",
       "</table>\n",
       "<p>612257 rows × 4 columns</p>\n",
       "</div>"
      ],
      "text/plain": [
       "         mrp  price  rating  review_count\n",
       "0       12.5   12.5  5.0000  8.000000e+00\n",
       "1       12.5   12.5  5.0000  8.000000e+00\n",
       "2       12.5   12.5  5.0000  8.000000e+00\n",
       "3       12.5   12.5  5.0000  8.000000e+00\n",
       "4       12.5   12.5  5.0000  8.000000e+00\n",
       "...      ...    ...     ...           ...\n",
       "453381  48.0   48.0  4.1883  5.716612e+35\n",
       "453382  48.0   48.0  4.1883  5.716612e+35\n",
       "453383  48.0   48.0  4.1883  5.716612e+35\n",
       "453384  48.0   48.0  4.1883  5.716612e+35\n",
       "453385  48.0   48.0  4.1883  5.716612e+35\n",
       "\n",
       "[612257 rows x 4 columns]"
      ]
     },
     "execution_count": 710,
     "metadata": {},
     "output_type": "execute_result"
    }
   ],
   "source": [
    "df_data.columns\n",
    "X = df_data.drop(['product_name', 'pdp_url', 'brand_name','product_category', 'retailer', 'description', 'style_attributes', 'total_sizes', 'available_size', 'color', 'product_group', 'color_group','target'], axis=1)\n",
    "print(X.shape)\n",
    "X"
   ]
  },
  {
   "cell_type": "code",
   "execution_count": 711,
   "id": "0cf1cf6d",
   "metadata": {
    "scrolled": true
   },
   "outputs": [
    {
     "data": {
      "text/plain": [
       "Text(0, 0.5, 'Brand')"
      ]
     },
     "execution_count": 711,
     "metadata": {},
     "output_type": "execute_result"
    },
    {
     "data": {
      "image/png": "[encoded data removed]",
      "text/plain": [
       "<Figure size 1080x576 with 1 Axes>"
      ]
     },
     "metadata": {
      "needs_background": "light"
     },
     "output_type": "display_data"
    }
   ],
   "source": [
    "# Creating a instance of label Encoder.\n",
    "le = LabelEncoder()\n",
    "target = le.fit_transform(df_data['product_group'])\n",
    "df_data['product_group'] = target\n",
    "pyplt.figure(figsize=(15,8))\n",
    "plot = sns.boxplot(x='target', y='product_group', data=df_data)\n",
    "plot.set_title(\"Rating range for each brand\")\n",
    "plot.set_ylabel('Brand')"
   ]
  },
  {
   "cell_type": "code",
   "execution_count": 695,
   "id": "a1562ae3",
   "metadata": {},
   "outputs": [
    {
     "data": {
      "text/plain": [
       "array([0, 0, 0, ..., 7, 7, 7])"
      ]
     },
     "execution_count": 695,
     "metadata": {},
     "output_type": "execute_result"
    }
   ],
   "source": []
  },
  {
   "cell_type": "markdown",
   "id": "3d3910e3",
   "metadata": {},
   "source": [
    "# Split the dataset into a training set and a testing set\n",
    "## Advantages\n",
    "- By splitting the dataset pseudo-randomly into a two separate sets, we can train using one set and test using another.\n",
    "- This ensures that we won't use the same observations in both sets.\n",
    "- More flexible and faster than creating a model using all of the dataset for training.\n",
    "## Disadvantages\n",
    "- The accuracy scores for the testing set can vary depending on what observations are in the set.\n",
    "- This disadvantage can be countered using k-fold cross-validation."
   ]
  },
  {
   "cell_type": "code",
   "execution_count": 720,
   "id": "dbed964d",
   "metadata": {},
   "outputs": [
    {
     "name": "stdout",
     "output_type": "stream",
     "text": [
      "(183677, 4)\n",
      "(183677,)\n",
      "(428580, 4)\n",
      "(428580,)\n"
     ]
    }
   ],
   "source": [
    "X_train, X_test, y_train, y_test = train_test_split(X, target, test_size=0.7, random_state=5)\n",
    "print(X_train.shape)\n",
    "print(y_train.shape)\n",
    "print(X_test.shape)\n",
    "print(y_test.shape)\n"
   ]
  },
  {
   "cell_type": "code",
   "execution_count": 721,
   "id": "8d0da043",
   "metadata": {},
   "outputs": [],
   "source": [
    "# Instantiating LinearRegression() Model\n",
    "lr = LinearRegression()"
   ]
  },
  {
   "cell_type": "code",
   "execution_count": 722,
   "id": "1519b949",
   "metadata": {},
   "outputs": [
    {
     "data": {
      "text/plain": [
       "LinearRegression()"
      ]
     },
     "execution_count": 722,
     "metadata": {},
     "output_type": "execute_result"
    }
   ],
   "source": [
    "# Training/Fitting the Model\n",
    "lr.fit(X_train, y_train)"
   ]
  },
  {
   "cell_type": "code",
   "execution_count": 723,
   "id": "60b1dd81",
   "metadata": {},
   "outputs": [
    {
     "name": "stdout",
     "output_type": "stream",
     "text": [
      "Mean Absolute Error: 0.7472144041698283\n",
      "Mean Squared Error: 0.8011806640595541\n",
      "Mean Root Squared Error: 0.8950869589372611\n"
     ]
    }
   ],
   "source": [
    "# Making Predictions\n",
    "lr.predict(X_test)\n",
    "pred = lr.predict(X_test)\n",
    "\n",
    "# Evaluating Model's Performance\n",
    "print('Mean Absolute Error:', mean_absolute_error(y_test, pred))\n",
    "print('Mean Squared Error:', mean_squared_error(y_test, pred))\n",
    "print('Mean Root Squared Error:', np.sqrt(mean_squared_error(y_test, pred)))"
   ]
  },
  {
   "cell_type": "code",
   "execution_count": 685,
   "id": "a4619c2e",
   "metadata": {},
   "outputs": [
    {
     "data": {
      "text/html": [
       "<div>\n",
       "<style scoped>\n",
       "    .dataframe tbody tr th:only-of-type {\n",
       "        vertical-align: middle;\n",
       "    }\n",
       "\n",
       "    .dataframe tbody tr th {\n",
       "        vertical-align: top;\n",
       "    }\n",
       "\n",
       "    .dataframe thead th {\n",
       "        text-align: right;\n",
       "    }\n",
       "</style>\n",
       "<table border=\"1\" class=\"dataframe\">\n",
       "  <thead>\n",
       "    <tr style=\"text-align: right;\">\n",
       "      <th></th>\n",
       "      <th>product_name</th>\n",
       "      <th>mrp</th>\n",
       "      <th>price</th>\n",
       "      <th>pdp_url</th>\n",
       "      <th>brand_name</th>\n",
       "      <th>product_category</th>\n",
       "      <th>retailer</th>\n",
       "      <th>description</th>\n",
       "      <th>rating</th>\n",
       "      <th>review_count</th>\n",
       "      <th>style_attributes</th>\n",
       "      <th>total_sizes</th>\n",
       "      <th>available_size</th>\n",
       "      <th>color</th>\n",
       "      <th>product_group</th>\n",
       "      <th>color_group</th>\n",
       "      <th>target</th>\n",
       "    </tr>\n",
       "  </thead>\n",
       "  <tbody>\n",
       "    <tr>\n",
       "      <th>0</th>\n",
       "      <td>Aerie Everyday Loves Lace Cheeky</td>\n",
       "      <td>12.5</td>\n",
       "      <td>12.5</td>\n",
       "      <td>https://www.ae.com/aerie-everyday-loves-lace-c...</td>\n",
       "      <td>aerie</td>\n",
       "      <td>Cheekies</td>\n",
       "      <td>Ae US</td>\n",
       "      <td>Introducing Everyday Loves™: Made with love. E...</td>\n",
       "      <td>5.0000</td>\n",
       "      <td>8.000000e+00</td>\n",
       "      <td>[\"Soft lace with the right amount of stretch\",...</td>\n",
       "      <td>[\"XS\", \"S\", \"M\", \"L\", \"XL\", \"XXL\"]</td>\n",
       "      <td>[\"XS\", \"S\", \"M\", \"L\", \"XL\", \"XXL\"]</td>\n",
       "      <td>Rugged Green</td>\n",
       "      <td>panty</td>\n",
       "      <td>green</td>\n",
       "      <td>3</td>\n",
       "    </tr>\n",
       "    <tr>\n",
       "      <th>1</th>\n",
       "      <td>Aerie Everyday Loves Lace Cheeky</td>\n",
       "      <td>12.5</td>\n",
       "      <td>12.5</td>\n",
       "      <td>https://www.ae.com/aerie-everyday-loves-lace-c...</td>\n",
       "      <td>aerie</td>\n",
       "      <td>Cheekies</td>\n",
       "      <td>Ae US</td>\n",
       "      <td>Introducing Everyday Loves™: Made with love. E...</td>\n",
       "      <td>5.0000</td>\n",
       "      <td>8.000000e+00</td>\n",
       "      <td>[\"Soft lace with the right amount of stretch\",...</td>\n",
       "      <td>[\"XS\", \"S\", \"M\", \"L\", \"XL\", \"XXL\"]</td>\n",
       "      <td>[\"XS\", \"S\", \"M\", \"L\", \"XL\", \"XXL\"]</td>\n",
       "      <td>Natural Nude</td>\n",
       "      <td>panty</td>\n",
       "      <td>nude</td>\n",
       "      <td>3</td>\n",
       "    </tr>\n",
       "    <tr>\n",
       "      <th>2</th>\n",
       "      <td>Aerie Everyday Loves Lace Cheeky</td>\n",
       "      <td>12.5</td>\n",
       "      <td>12.5</td>\n",
       "      <td>https://www.ae.com/aerie-everyday-loves-lace-c...</td>\n",
       "      <td>aerie</td>\n",
       "      <td>Cheekies</td>\n",
       "      <td>Ae US</td>\n",
       "      <td>Introducing Everyday Loves™: Made with love. E...</td>\n",
       "      <td>5.0000</td>\n",
       "      <td>8.000000e+00</td>\n",
       "      <td>[\"Soft lace with the right amount of stretch\",...</td>\n",
       "      <td>[\"XS\", \"S\", \"M\", \"L\", \"XL\", \"XXL\"]</td>\n",
       "      <td>[\"XS\", \"S\", \"M\", \"L\", \"XL\", \"XXL\"]</td>\n",
       "      <td>True Black</td>\n",
       "      <td>panty</td>\n",
       "      <td>black</td>\n",
       "      <td>3</td>\n",
       "    </tr>\n",
       "    <tr>\n",
       "      <th>3</th>\n",
       "      <td>Aerie Everyday Loves Lace Cheeky</td>\n",
       "      <td>12.5</td>\n",
       "      <td>12.5</td>\n",
       "      <td>https://www.ae.com/aerie-everyday-loves-lace-c...</td>\n",
       "      <td>aerie</td>\n",
       "      <td>Cheekies</td>\n",
       "      <td>Ae US</td>\n",
       "      <td>Introducing Everyday Loves™: Made with love. E...</td>\n",
       "      <td>5.0000</td>\n",
       "      <td>8.000000e+00</td>\n",
       "      <td>[\"Soft lace with the right amount of stretch\",...</td>\n",
       "      <td>[\"XS\", \"S\", \"M\", \"L\", \"XL\", \"XXL\"]</td>\n",
       "      <td>[\"XS\", \"S\", \"M\", \"L\", \"XL\", \"XXL\"]</td>\n",
       "      <td>White</td>\n",
       "      <td>panty</td>\n",
       "      <td>white</td>\n",
       "      <td>3</td>\n",
       "    </tr>\n",
       "    <tr>\n",
       "      <th>4</th>\n",
       "      <td>Aerie Everyday Loves Lace Cheeky</td>\n",
       "      <td>12.5</td>\n",
       "      <td>12.5</td>\n",
       "      <td>https://www.ae.com/aerie-everyday-loves-lace-c...</td>\n",
       "      <td>aerie</td>\n",
       "      <td>Cheekies</td>\n",
       "      <td>Ae US</td>\n",
       "      <td>Introducing Everyday Loves™: Made with love. E...</td>\n",
       "      <td>5.0000</td>\n",
       "      <td>8.000000e+00</td>\n",
       "      <td>[\"Soft lace with the right amount of stretch\",...</td>\n",
       "      <td>[\"XS\", \"S\", \"M\", \"L\", \"XL\", \"XXL\"]</td>\n",
       "      <td>[\"XS\", \"S\", \"M\", \"L\", \"XL\", \"XXL\"]</td>\n",
       "      <td>Royal Navy</td>\n",
       "      <td>panty</td>\n",
       "      <td>blue</td>\n",
       "      <td>3</td>\n",
       "    </tr>\n",
       "    <tr>\n",
       "      <th>5</th>\n",
       "      <td>Aerie Everyday Loves Lace Cheeky</td>\n",
       "      <td>12.5</td>\n",
       "      <td>12.5</td>\n",
       "      <td>https://www.ae.com/aerie-everyday-loves-lace-c...</td>\n",
       "      <td>aerie</td>\n",
       "      <td>Cheekies</td>\n",
       "      <td>Ae US</td>\n",
       "      <td>Introducing Everyday Loves™: Made with love. E...</td>\n",
       "      <td>5.0000</td>\n",
       "      <td>8.000000e+00</td>\n",
       "      <td>[\"Soft lace with the right amount of stretch\",...</td>\n",
       "      <td>[\"XS\", \"S\", \"M\", \"L\", \"XL\", \"XXL\"]</td>\n",
       "      <td>[\"XS\", \"S\", \"M\", \"L\", \"XL\", \"XXL\"]</td>\n",
       "      <td>Slab Gray</td>\n",
       "      <td>panty</td>\n",
       "      <td>gray</td>\n",
       "      <td>3</td>\n",
       "    </tr>\n",
       "    <tr>\n",
       "      <th>6</th>\n",
       "      <td>Aerie Lace Hi-Rise Boybrief</td>\n",
       "      <td>12.5</td>\n",
       "      <td>12.5</td>\n",
       "      <td>https://www.ae.com/undies-aerie-lace-hi-rise-b...</td>\n",
       "      <td>aerie</td>\n",
       "      <td>Boybriefs</td>\n",
       "      <td>Ae US</td>\n",
       "      <td>Laced with love and extra comfort. No cheek pe...</td>\n",
       "      <td>4.8000</td>\n",
       "      <td>5.716612e+35</td>\n",
       "      <td>[\"Soft lace with the right amount of stretch\",...</td>\n",
       "      <td>[\"XS\", \"S\", \"M\", \"L\", \"XL\", \"XXL\"]</td>\n",
       "      <td>[\"XS\", \"S\", \"M\", \"L\"]</td>\n",
       "      <td>White</td>\n",
       "      <td>panty</td>\n",
       "      <td>white</td>\n",
       "      <td>3</td>\n",
       "    </tr>\n",
       "    <tr>\n",
       "      <th>10</th>\n",
       "      <td>Aerie Lace Hi-Rise Boybrief</td>\n",
       "      <td>12.5</td>\n",
       "      <td>12.5</td>\n",
       "      <td>https://www.ae.com/undies-aerie-lace-hi-rise-b...</td>\n",
       "      <td>aerie</td>\n",
       "      <td>Boybriefs</td>\n",
       "      <td>Ae US</td>\n",
       "      <td>Laced with love and extra comfort. No cheek pe...</td>\n",
       "      <td>4.8000</td>\n",
       "      <td>5.716612e+35</td>\n",
       "      <td>[\"Soft lace with the right amount of stretch\",...</td>\n",
       "      <td>[\"XS\", \"S\", \"M\", \"L\", \"XL\", \"XXL\"]</td>\n",
       "      <td>[\"XS\", \"S\", \"M\"]</td>\n",
       "      <td>Stone</td>\n",
       "      <td>panty</td>\n",
       "      <td>stone</td>\n",
       "      <td>3</td>\n",
       "    </tr>\n",
       "    <tr>\n",
       "      <th>11</th>\n",
       "      <td>Aerie Lace Hi-Rise Boybrief</td>\n",
       "      <td>12.5</td>\n",
       "      <td>12.5</td>\n",
       "      <td>https://www.ae.com/undies-aerie-lace-hi-rise-b...</td>\n",
       "      <td>aerie</td>\n",
       "      <td>Boybriefs</td>\n",
       "      <td>Ae US</td>\n",
       "      <td>Laced with love and extra comfort. No cheek pe...</td>\n",
       "      <td>4.8000</td>\n",
       "      <td>5.716612e+35</td>\n",
       "      <td>[\"Soft lace with the right amount of stretch\",...</td>\n",
       "      <td>[\"XS\", \"S\", \"M\", \"L\", \"XL\", \"XXL\"]</td>\n",
       "      <td>[\"XS\", \"S\", \"M\", \"L\", \"XL\"]</td>\n",
       "      <td>Deep Plum</td>\n",
       "      <td>panty</td>\n",
       "      <td>red</td>\n",
       "      <td>3</td>\n",
       "    </tr>\n",
       "    <tr>\n",
       "      <th>12</th>\n",
       "      <td>Aerie Lace Hi-Rise Boybrief</td>\n",
       "      <td>12.5</td>\n",
       "      <td>12.5</td>\n",
       "      <td>https://www.ae.com/undies-aerie-lace-hi-rise-b...</td>\n",
       "      <td>aerie</td>\n",
       "      <td>Boybriefs</td>\n",
       "      <td>Ae US</td>\n",
       "      <td>Laced with love and extra comfort. No cheek pe...</td>\n",
       "      <td>4.8000</td>\n",
       "      <td>5.716612e+35</td>\n",
       "      <td>[\"Soft lace with the right amount of stretch\",...</td>\n",
       "      <td>[\"XS\", \"S\", \"M\", \"L\", \"XL\", \"XXL\"]</td>\n",
       "      <td>[\"XS\", \"S\", \"M\"]</td>\n",
       "      <td>Royal Navy</td>\n",
       "      <td>panty</td>\n",
       "      <td>blue</td>\n",
       "      <td>3</td>\n",
       "    </tr>\n",
       "    <tr>\n",
       "      <th>13</th>\n",
       "      <td>Aerie Boybrief</td>\n",
       "      <td>9.5</td>\n",
       "      <td>9.5</td>\n",
       "      <td>https://www.ae.com/aerie-boybrief-buff/aerie/s...</td>\n",
       "      <td>aerie</td>\n",
       "      <td>Boybriefs</td>\n",
       "      <td>Ae US</td>\n",
       "      <td>It all started with a boybrief: our original f...</td>\n",
       "      <td>4.7000</td>\n",
       "      <td>1.100000e+01</td>\n",
       "      <td>[\"Comfy, stretchy cotton\", \"Aerie undies: your...</td>\n",
       "      <td>[\"XXS\", \"XS\", \"S\", \"M\", \"L\", \"XL\", \"XXL\"]</td>\n",
       "      <td>[\"XS\", \"S\", \"M\", \"L\", \"XL\", \"XXL\"]</td>\n",
       "      <td>Buff</td>\n",
       "      <td>panty</td>\n",
       "      <td>buff</td>\n",
       "      <td>3</td>\n",
       "    </tr>\n",
       "    <tr>\n",
       "      <th>14</th>\n",
       "      <td>Aerie Boybrief</td>\n",
       "      <td>9.5</td>\n",
       "      <td>9.5</td>\n",
       "      <td>https://www.ae.com/aerie-boybrief-buff/aerie/s...</td>\n",
       "      <td>aerie</td>\n",
       "      <td>Boybriefs</td>\n",
       "      <td>Ae US</td>\n",
       "      <td>It all started with a boybrief: our original f...</td>\n",
       "      <td>4.7000</td>\n",
       "      <td>1.100000e+01</td>\n",
       "      <td>[\"Comfy, stretchy cotton\", \"Aerie undies: your...</td>\n",
       "      <td>[\"XXS\", \"XS\", \"S\", \"M\", \"L\", \"XL\", \"XXL\"]</td>\n",
       "      <td>[\"XS\", \"S\", \"M\", \"L\", \"XL\", \"XXL\"]</td>\n",
       "      <td>Dark Heather</td>\n",
       "      <td>panty</td>\n",
       "      <td>dark heather</td>\n",
       "      <td>3</td>\n",
       "    </tr>\n",
       "    <tr>\n",
       "      <th>15</th>\n",
       "      <td>Aerie Boybrief</td>\n",
       "      <td>9.5</td>\n",
       "      <td>9.5</td>\n",
       "      <td>https://www.ae.com/aerie-boybrief-buff/aerie/s...</td>\n",
       "      <td>aerie</td>\n",
       "      <td>Boybriefs</td>\n",
       "      <td>Ae US</td>\n",
       "      <td>It all started with a boybrief: our original f...</td>\n",
       "      <td>4.7000</td>\n",
       "      <td>1.100000e+01</td>\n",
       "      <td>[\"Comfy, stretchy cotton\", \"Aerie undies: your...</td>\n",
       "      <td>[\"XXS\", \"XS\", \"S\", \"M\", \"L\", \"XL\", \"XXL\"]</td>\n",
       "      <td>[\"XS\", \"S\", \"M\", \"L\", \"XL\", \"XXL\"]</td>\n",
       "      <td>Royal Navy</td>\n",
       "      <td>panty</td>\n",
       "      <td>blue</td>\n",
       "      <td>3</td>\n",
       "    </tr>\n",
       "    <tr>\n",
       "      <th>16</th>\n",
       "      <td>Aerie Seamless Thong</td>\n",
       "      <td>12.5</td>\n",
       "      <td>12.5</td>\n",
       "      <td>https://www.ae.com/undies-aerie-seamless-thong...</td>\n",
       "      <td>aerie</td>\n",
       "      <td>Thongs</td>\n",
       "      <td>Ae US</td>\n",
       "      <td>Total cheek! Smooth: No seams. All comfort. Re...</td>\n",
       "      <td>4.0000</td>\n",
       "      <td>1.000000e+01</td>\n",
       "      <td>[\"Smooth seamless fabric\", \"Aerie undies: Your...</td>\n",
       "      <td>[\"XS\", \"S\", \"M\", \"L\", \"XL\", \"XXL\"]</td>\n",
       "      <td>[\"XS\", \"S\", \"M\", \"L\", \"XL\", \"XXL\"]</td>\n",
       "      <td>True Black</td>\n",
       "      <td>panty</td>\n",
       "      <td>black</td>\n",
       "      <td>3</td>\n",
       "    </tr>\n",
       "    <tr>\n",
       "      <th>17</th>\n",
       "      <td>Aerie Seamless Thong</td>\n",
       "      <td>12.5</td>\n",
       "      <td>12.5</td>\n",
       "      <td>https://www.ae.com/undies-aerie-seamless-thong...</td>\n",
       "      <td>aerie</td>\n",
       "      <td>Thongs</td>\n",
       "      <td>Ae US</td>\n",
       "      <td>Total cheek! Smooth: No seams. All comfort. Re...</td>\n",
       "      <td>4.0000</td>\n",
       "      <td>1.000000e+01</td>\n",
       "      <td>[\"Smooth seamless fabric\", \"Aerie undies: Your...</td>\n",
       "      <td>[\"XS\", \"S\", \"M\", \"L\", \"XL\", \"XXL\"]</td>\n",
       "      <td>[\"XS\", \"S\", \"M\", \"L\", \"XL\", \"XXL\"]</td>\n",
       "      <td>Slab Gray</td>\n",
       "      <td>panty</td>\n",
       "      <td>gray</td>\n",
       "      <td>3</td>\n",
       "    </tr>\n",
       "    <tr>\n",
       "      <th>18</th>\n",
       "      <td>Aerie Seamless Thong</td>\n",
       "      <td>12.5</td>\n",
       "      <td>12.5</td>\n",
       "      <td>https://www.ae.com/undies-aerie-seamless-thong...</td>\n",
       "      <td>aerie</td>\n",
       "      <td>Thongs</td>\n",
       "      <td>Ae US</td>\n",
       "      <td>Total cheek! Smooth: No seams. All comfort. Re...</td>\n",
       "      <td>4.0000</td>\n",
       "      <td>1.000000e+01</td>\n",
       "      <td>[\"Smooth seamless fabric\", \"Aerie undies: Your...</td>\n",
       "      <td>[\"XS\", \"S\", \"M\", \"L\", \"XL\", \"XXL\"]</td>\n",
       "      <td>[\"XS\", \"S\", \"XL\", \"XXL\"]</td>\n",
       "      <td>Coral</td>\n",
       "      <td>panty</td>\n",
       "      <td>coral</td>\n",
       "      <td>3</td>\n",
       "    </tr>\n",
       "    <tr>\n",
       "      <th>19</th>\n",
       "      <td>Aerie Seamless Thong</td>\n",
       "      <td>12.5</td>\n",
       "      <td>12.5</td>\n",
       "      <td>https://www.ae.com/undies-aerie-seamless-thong...</td>\n",
       "      <td>aerie</td>\n",
       "      <td>Thongs</td>\n",
       "      <td>Ae US</td>\n",
       "      <td>Total cheek! Smooth: No seams. All comfort. Re...</td>\n",
       "      <td>4.0000</td>\n",
       "      <td>1.000000e+01</td>\n",
       "      <td>[\"Smooth seamless fabric\", \"Aerie undies: Your...</td>\n",
       "      <td>[\"XS\", \"S\", \"M\", \"L\", \"XL\", \"XXL\"]</td>\n",
       "      <td>[\"XS\", \"S\", \"XL\", \"XXL\"]</td>\n",
       "      <td>Bright Cobalt</td>\n",
       "      <td>panty</td>\n",
       "      <td>bright cobalt</td>\n",
       "      <td>3</td>\n",
       "    </tr>\n",
       "    <tr>\n",
       "      <th>20</th>\n",
       "      <td>Aerie Seamless Thong</td>\n",
       "      <td>12.5</td>\n",
       "      <td>12.5</td>\n",
       "      <td>https://www.ae.com/undies-aerie-seamless-thong...</td>\n",
       "      <td>aerie</td>\n",
       "      <td>Thongs</td>\n",
       "      <td>Ae US</td>\n",
       "      <td>Total cheek! Smooth: No seams. All comfort. Re...</td>\n",
       "      <td>4.0000</td>\n",
       "      <td>1.000000e+01</td>\n",
       "      <td>[\"Smooth seamless fabric\", \"Aerie undies: Your...</td>\n",
       "      <td>[\"XS\", \"S\", \"M\", \"L\", \"XL\", \"XXL\"]</td>\n",
       "      <td>[\"XS\", \"XL\", \"XXL\"]</td>\n",
       "      <td>Valentine</td>\n",
       "      <td>panty</td>\n",
       "      <td>valentine</td>\n",
       "      <td>3</td>\n",
       "    </tr>\n",
       "    <tr>\n",
       "      <th>21</th>\n",
       "      <td>Aerie Shine Bikini + Boho Lace</td>\n",
       "      <td>12.5</td>\n",
       "      <td>12.5</td>\n",
       "      <td>https://www.ae.com/undies-aerie-shine-bikini-b...</td>\n",
       "      <td>aerie</td>\n",
       "      <td>Bikinis</td>\n",
       "      <td>Ae US</td>\n",
       "      <td>Shine on. A peek of cheek meets peace, love an...</td>\n",
       "      <td>4.1883</td>\n",
       "      <td>5.716612e+35</td>\n",
       "      <td>[\"Smooth shine fabric + Boho lace\", \"Aerie und...</td>\n",
       "      <td>[\"XS\", \"S\", \"M\", \"L\", \"XL\", \"XXL\"]</td>\n",
       "      <td>[\"XS\", \"S\", \"XXL\"]</td>\n",
       "      <td>Coral</td>\n",
       "      <td>bikini</td>\n",
       "      <td>coral</td>\n",
       "      <td>0</td>\n",
       "    </tr>\n",
       "    <tr>\n",
       "      <th>22</th>\n",
       "      <td>Aerie Shine Bikini + Boho Lace</td>\n",
       "      <td>12.5</td>\n",
       "      <td>12.5</td>\n",
       "      <td>https://www.ae.com/undies-aerie-shine-bikini-b...</td>\n",
       "      <td>aerie</td>\n",
       "      <td>Bikinis</td>\n",
       "      <td>Ae US</td>\n",
       "      <td>Shine on. A peek of cheek meets peace, love an...</td>\n",
       "      <td>4.1883</td>\n",
       "      <td>5.716612e+35</td>\n",
       "      <td>[\"Smooth shine fabric + Boho lace\", \"Aerie und...</td>\n",
       "      <td>[\"XS\", \"S\", \"M\", \"L\", \"XL\", \"XXL\"]</td>\n",
       "      <td>[\"XS\", \"S\"]</td>\n",
       "      <td>True Black</td>\n",
       "      <td>bikini</td>\n",
       "      <td>black</td>\n",
       "      <td>0</td>\n",
       "    </tr>\n",
       "    <tr>\n",
       "      <th>23</th>\n",
       "      <td>Aerie Shine Bikini + Boho Lace</td>\n",
       "      <td>12.5</td>\n",
       "      <td>12.5</td>\n",
       "      <td>https://www.ae.com/undies-aerie-shine-bikini-b...</td>\n",
       "      <td>aerie</td>\n",
       "      <td>Bikinis</td>\n",
       "      <td>Ae US</td>\n",
       "      <td>Shine on. A peek of cheek meets peace, love an...</td>\n",
       "      <td>4.1883</td>\n",
       "      <td>5.716612e+35</td>\n",
       "      <td>[\"Smooth shine fabric + Boho lace\", \"Aerie und...</td>\n",
       "      <td>[\"XS\", \"S\", \"M\", \"L\", \"XL\", \"XXL\"]</td>\n",
       "      <td>[\"XS\", \"XXL\"]</td>\n",
       "      <td>Maroon Lagoon</td>\n",
       "      <td>bikini</td>\n",
       "      <td>red</td>\n",
       "      <td>0</td>\n",
       "    </tr>\n",
       "    <tr>\n",
       "      <th>24</th>\n",
       "      <td>Aerie Boybrief</td>\n",
       "      <td>9.5</td>\n",
       "      <td>9.5</td>\n",
       "      <td>https://www.ae.com/aerie-boybrief-buff/aerie/s...</td>\n",
       "      <td>aerie</td>\n",
       "      <td>Boybriefs</td>\n",
       "      <td>Ae US</td>\n",
       "      <td>We'll keep this brief. It all started with a b...</td>\n",
       "      <td>3.3000</td>\n",
       "      <td>5.716612e+35</td>\n",
       "      <td>[\"Comfy, stretchy cotton\", \"Aerie undies: your...</td>\n",
       "      <td>[\"XS\", \"S\", \"M\", \"L\", \"XL\", \"XXL\"]</td>\n",
       "      <td>[\"XS\", \"S\", \"M\", \"XXL\"]</td>\n",
       "      <td>True Black</td>\n",
       "      <td>panty</td>\n",
       "      <td>black</td>\n",
       "      <td>3</td>\n",
       "    </tr>\n",
       "    <tr>\n",
       "      <th>25</th>\n",
       "      <td>Aerie Boybrief</td>\n",
       "      <td>9.5</td>\n",
       "      <td>9.5</td>\n",
       "      <td>https://www.ae.com/aerie-boybrief-buff/aerie/s...</td>\n",
       "      <td>aerie</td>\n",
       "      <td>Boybriefs</td>\n",
       "      <td>Ae US</td>\n",
       "      <td>We'll keep this brief. It all started with a b...</td>\n",
       "      <td>3.3000</td>\n",
       "      <td>5.716612e+35</td>\n",
       "      <td>[\"Comfy, stretchy cotton\", \"Aerie undies: your...</td>\n",
       "      <td>[\"XS\", \"S\", \"M\", \"L\", \"XL\", \"XXL\"]</td>\n",
       "      <td>[\"S\", \"XXL\"]</td>\n",
       "      <td>Buff</td>\n",
       "      <td>panty</td>\n",
       "      <td>buff</td>\n",
       "      <td>3</td>\n",
       "    </tr>\n",
       "    <tr>\n",
       "      <th>26</th>\n",
       "      <td>Aerie Boybrief</td>\n",
       "      <td>9.5</td>\n",
       "      <td>9.5</td>\n",
       "      <td>https://www.ae.com/aerie-boybrief-buff/aerie/s...</td>\n",
       "      <td>aerie</td>\n",
       "      <td>Boybriefs</td>\n",
       "      <td>Ae US</td>\n",
       "      <td>We'll keep this brief. It all started with a b...</td>\n",
       "      <td>3.3000</td>\n",
       "      <td>5.716612e+35</td>\n",
       "      <td>[\"Comfy, stretchy cotton\", \"Aerie undies: your...</td>\n",
       "      <td>[\"XS\", \"S\", \"M\", \"L\", \"XL\", \"XXL\"]</td>\n",
       "      <td>[\"XS\", \"S\", \"M\", \"L\", \"XL\", \"XXL\"]</td>\n",
       "      <td>Heather Gray</td>\n",
       "      <td>panty</td>\n",
       "      <td>gray</td>\n",
       "      <td>3</td>\n",
       "    </tr>\n",
       "    <tr>\n",
       "      <th>27</th>\n",
       "      <td>Aerie Lace Back String Thong</td>\n",
       "      <td>7.5</td>\n",
       "      <td>7.5</td>\n",
       "      <td>https://www.ae.com/undies-aerie-lace-back-stri...</td>\n",
       "      <td>aerie</td>\n",
       "      <td>Thongs</td>\n",
       "      <td>Ae US</td>\n",
       "      <td>NO PANTS PARTY! Gettin’ stringy with it… style...</td>\n",
       "      <td>4.1883</td>\n",
       "      <td>5.716612e+35</td>\n",
       "      <td>[\"Comfy, stretchy cotton\", \"Low rise\", \"Total ...</td>\n",
       "      <td>[\"XXS\", \"XS\", \"S\", \"M\", \"L\", \"XL\", \"XXL\"]</td>\n",
       "      <td>[\"XS\", \"S\", \"M\", \"L\", \"XL\", \"XXL\"]</td>\n",
       "      <td>Dark Heather</td>\n",
       "      <td>panty</td>\n",
       "      <td>dark heather</td>\n",
       "      <td>3</td>\n",
       "    </tr>\n",
       "    <tr>\n",
       "      <th>28</th>\n",
       "      <td>Aerie Bikini</td>\n",
       "      <td>9.5</td>\n",
       "      <td>9.5</td>\n",
       "      <td>https://www.ae.com/undies-aerie-bikini-buff/ae...</td>\n",
       "      <td>aerie</td>\n",
       "      <td>Bikinis</td>\n",
       "      <td>Ae US</td>\n",
       "      <td>Introducing Everyday Loves™: Made with love. E...</td>\n",
       "      <td>4.1883</td>\n",
       "      <td>5.716612e+35</td>\n",
       "      <td>[\"Comfy, stretchy cotton\", \"Panties, underwear...</td>\n",
       "      <td>[\"XS\", \"S\", \"M\", \"L\", \"XL\", \"XXL\"]</td>\n",
       "      <td>[\"XS\", \"S\", \"M\", \"L\", \"XL\"]</td>\n",
       "      <td>Dark Heather</td>\n",
       "      <td>bikini</td>\n",
       "      <td>dark heather</td>\n",
       "      <td>0</td>\n",
       "    </tr>\n",
       "    <tr>\n",
       "      <th>29</th>\n",
       "      <td>Aerie Bikini</td>\n",
       "      <td>9.5</td>\n",
       "      <td>9.5</td>\n",
       "      <td>https://www.ae.com/undies-aerie-bikini-buff/ae...</td>\n",
       "      <td>aerie</td>\n",
       "      <td>Bikinis</td>\n",
       "      <td>Ae US</td>\n",
       "      <td>Introducing Everyday Loves™: Made with love. E...</td>\n",
       "      <td>4.1883</td>\n",
       "      <td>5.716612e+35</td>\n",
       "      <td>[\"Comfy, stretchy cotton\", \"Panties, underwear...</td>\n",
       "      <td>[\"XS\", \"S\", \"M\", \"L\", \"XL\", \"XXL\"]</td>\n",
       "      <td>[\"XS\", \"S\", \"M\", \"L\", \"XL\", \"XXL\"]</td>\n",
       "      <td>True Black</td>\n",
       "      <td>bikini</td>\n",
       "      <td>black</td>\n",
       "      <td>0</td>\n",
       "    </tr>\n",
       "    <tr>\n",
       "      <th>30</th>\n",
       "      <td>Aerie Bikini</td>\n",
       "      <td>9.5</td>\n",
       "      <td>9.5</td>\n",
       "      <td>https://www.ae.com/undies-aerie-bikini-buff/ae...</td>\n",
       "      <td>aerie</td>\n",
       "      <td>Bikinis</td>\n",
       "      <td>Ae US</td>\n",
       "      <td>Introducing Everyday Loves™: Made with love. E...</td>\n",
       "      <td>4.1883</td>\n",
       "      <td>5.716612e+35</td>\n",
       "      <td>[\"Comfy, stretchy cotton\", \"Panties, underwear...</td>\n",
       "      <td>[\"XS\", \"S\", \"M\", \"L\", \"XL\", \"XXL\"]</td>\n",
       "      <td>[\"XS\", \"S\", \"M\", \"L\", \"XL\", \"XXL\"]</td>\n",
       "      <td>Buff</td>\n",
       "      <td>bikini</td>\n",
       "      <td>buff</td>\n",
       "      <td>0</td>\n",
       "    </tr>\n",
       "    <tr>\n",
       "      <th>31</th>\n",
       "      <td>Aerie Hi-Leg Bikini</td>\n",
       "      <td>9.5</td>\n",
       "      <td>9.5</td>\n",
       "      <td>https://www.ae.com/undies-aerie-hi-leg-bikini-...</td>\n",
       "      <td>aerie</td>\n",
       "      <td>HiLeg Bikinis</td>\n",
       "      <td>Ae US</td>\n",
       "      <td>New! Hi-leg fit. Your go-to fave with a peek o...</td>\n",
       "      <td>4.5000</td>\n",
       "      <td>2.000000e+00</td>\n",
       "      <td>[\"Comfy, stretchy cotton\", \"Hits higher on the...</td>\n",
       "      <td>[\"XS\", \"S\", \"M\", \"L\", \"XL\", \"XXL\"]</td>\n",
       "      <td>[\"XS\", \"S\", \"M\", \"L\", \"XL\", \"XXL\"]</td>\n",
       "      <td>True Black</td>\n",
       "      <td>bikini</td>\n",
       "      <td>black</td>\n",
       "      <td>0</td>\n",
       "    </tr>\n",
       "    <tr>\n",
       "      <th>32</th>\n",
       "      <td>Aerie Thong</td>\n",
       "      <td>9.5</td>\n",
       "      <td>9.5</td>\n",
       "      <td>https://www.ae.com/undies-aerie-thong-valentin...</td>\n",
       "      <td>aerie</td>\n",
       "      <td>Thongs</td>\n",
       "      <td>Ae US</td>\n",
       "      <td>Total cheek! The soft and comfy cotton you lov...</td>\n",
       "      <td>4.1883</td>\n",
       "      <td>5.716612e+35</td>\n",
       "      <td>[\"Comfy cotton\", \"Low rise\", \"Total cheek!\", \"...</td>\n",
       "      <td>[\"XS\", \"S\", \"M\", \"L\", \"XL\", \"XXL\"]</td>\n",
       "      <td>[\"XS\", \"S\", \"M\", \"L\", \"XL\", \"XXL\"]</td>\n",
       "      <td>Fresh Bright</td>\n",
       "      <td>panty</td>\n",
       "      <td>fresh bright</td>\n",
       "      <td>3</td>\n",
       "    </tr>\n",
       "  </tbody>\n",
       "</table>\n",
       "</div>"
      ],
      "text/plain": [
       "                        product_name   mrp  price  \\\n",
       "0   Aerie Everyday Loves Lace Cheeky  12.5   12.5   \n",
       "1   Aerie Everyday Loves Lace Cheeky  12.5   12.5   \n",
       "2   Aerie Everyday Loves Lace Cheeky  12.5   12.5   \n",
       "3   Aerie Everyday Loves Lace Cheeky  12.5   12.5   \n",
       "4   Aerie Everyday Loves Lace Cheeky  12.5   12.5   \n",
       "5   Aerie Everyday Loves Lace Cheeky  12.5   12.5   \n",
       "6        Aerie Lace Hi-Rise Boybrief  12.5   12.5   \n",
       "10       Aerie Lace Hi-Rise Boybrief  12.5   12.5   \n",
       "11       Aerie Lace Hi-Rise Boybrief  12.5   12.5   \n",
       "12       Aerie Lace Hi-Rise Boybrief  12.5   12.5   \n",
       "13                    Aerie Boybrief   9.5    9.5   \n",
       "14                    Aerie Boybrief   9.5    9.5   \n",
       "15                    Aerie Boybrief   9.5    9.5   \n",
       "16              Aerie Seamless Thong  12.5   12.5   \n",
       "17              Aerie Seamless Thong  12.5   12.5   \n",
       "18              Aerie Seamless Thong  12.5   12.5   \n",
       "19              Aerie Seamless Thong  12.5   12.5   \n",
       "20              Aerie Seamless Thong  12.5   12.5   \n",
       "21    Aerie Shine Bikini + Boho Lace  12.5   12.5   \n",
       "22    Aerie Shine Bikini + Boho Lace  12.5   12.5   \n",
       "23    Aerie Shine Bikini + Boho Lace  12.5   12.5   \n",
       "24                    Aerie Boybrief   9.5    9.5   \n",
       "25                    Aerie Boybrief   9.5    9.5   \n",
       "26                    Aerie Boybrief   9.5    9.5   \n",
       "27      Aerie Lace Back String Thong   7.5    7.5   \n",
       "28                      Aerie Bikini   9.5    9.5   \n",
       "29                      Aerie Bikini   9.5    9.5   \n",
       "30                      Aerie Bikini   9.5    9.5   \n",
       "31               Aerie Hi-Leg Bikini   9.5    9.5   \n",
       "32                       Aerie Thong   9.5    9.5   \n",
       "\n",
       "                                              pdp_url brand_name  \\\n",
       "0   https://www.ae.com/aerie-everyday-loves-lace-c...      aerie   \n",
       "1   https://www.ae.com/aerie-everyday-loves-lace-c...      aerie   \n",
       "2   https://www.ae.com/aerie-everyday-loves-lace-c...      aerie   \n",
       "3   https://www.ae.com/aerie-everyday-loves-lace-c...      aerie   \n",
       "4   https://www.ae.com/aerie-everyday-loves-lace-c...      aerie   \n",
       "5   https://www.ae.com/aerie-everyday-loves-lace-c...      aerie   \n",
       "6   https://www.ae.com/undies-aerie-lace-hi-rise-b...      aerie   \n",
       "10  https://www.ae.com/undies-aerie-lace-hi-rise-b...      aerie   \n",
       "11  https://www.ae.com/undies-aerie-lace-hi-rise-b...      aerie   \n",
       "12  https://www.ae.com/undies-aerie-lace-hi-rise-b...      aerie   \n",
       "13  https://www.ae.com/aerie-boybrief-buff/aerie/s...      aerie   \n",
       "14  https://www.ae.com/aerie-boybrief-buff/aerie/s...      aerie   \n",
       "15  https://www.ae.com/aerie-boybrief-buff/aerie/s...      aerie   \n",
       "16  https://www.ae.com/undies-aerie-seamless-thong...      aerie   \n",
       "17  https://www.ae.com/undies-aerie-seamless-thong...      aerie   \n",
       "18  https://www.ae.com/undies-aerie-seamless-thong...      aerie   \n",
       "19  https://www.ae.com/undies-aerie-seamless-thong...      aerie   \n",
       "20  https://www.ae.com/undies-aerie-seamless-thong...      aerie   \n",
       "21  https://www.ae.com/undies-aerie-shine-bikini-b...      aerie   \n",
       "22  https://www.ae.com/undies-aerie-shine-bikini-b...      aerie   \n",
       "23  https://www.ae.com/undies-aerie-shine-bikini-b...      aerie   \n",
       "24  https://www.ae.com/aerie-boybrief-buff/aerie/s...      aerie   \n",
       "25  https://www.ae.com/aerie-boybrief-buff/aerie/s...      aerie   \n",
       "26  https://www.ae.com/aerie-boybrief-buff/aerie/s...      aerie   \n",
       "27  https://www.ae.com/undies-aerie-lace-back-stri...      aerie   \n",
       "28  https://www.ae.com/undies-aerie-bikini-buff/ae...      aerie   \n",
       "29  https://www.ae.com/undies-aerie-bikini-buff/ae...      aerie   \n",
       "30  https://www.ae.com/undies-aerie-bikini-buff/ae...      aerie   \n",
       "31  https://www.ae.com/undies-aerie-hi-leg-bikini-...      aerie   \n",
       "32  https://www.ae.com/undies-aerie-thong-valentin...      aerie   \n",
       "\n",
       "   product_category retailer  \\\n",
       "0          Cheekies    Ae US   \n",
       "1          Cheekies    Ae US   \n",
       "2          Cheekies    Ae US   \n",
       "3          Cheekies    Ae US   \n",
       "4          Cheekies    Ae US   \n",
       "5          Cheekies    Ae US   \n",
       "6         Boybriefs    Ae US   \n",
       "10        Boybriefs    Ae US   \n",
       "11        Boybriefs    Ae US   \n",
       "12        Boybriefs    Ae US   \n",
       "13        Boybriefs    Ae US   \n",
       "14        Boybriefs    Ae US   \n",
       "15        Boybriefs    Ae US   \n",
       "16           Thongs    Ae US   \n",
       "17           Thongs    Ae US   \n",
       "18           Thongs    Ae US   \n",
       "19           Thongs    Ae US   \n",
       "20           Thongs    Ae US   \n",
       "21          Bikinis    Ae US   \n",
       "22          Bikinis    Ae US   \n",
       "23          Bikinis    Ae US   \n",
       "24        Boybriefs    Ae US   \n",
       "25        Boybriefs    Ae US   \n",
       "26        Boybriefs    Ae US   \n",
       "27           Thongs    Ae US   \n",
       "28          Bikinis    Ae US   \n",
       "29          Bikinis    Ae US   \n",
       "30          Bikinis    Ae US   \n",
       "31    HiLeg Bikinis    Ae US   \n",
       "32           Thongs    Ae US   \n",
       "\n",
       "                                          description  rating  review_count  \\\n",
       "0   Introducing Everyday Loves™: Made with love. E...  5.0000  8.000000e+00   \n",
       "1   Introducing Everyday Loves™: Made with love. E...  5.0000  8.000000e+00   \n",
       "2   Introducing Everyday Loves™: Made with love. E...  5.0000  8.000000e+00   \n",
       "3   Introducing Everyday Loves™: Made with love. E...  5.0000  8.000000e+00   \n",
       "4   Introducing Everyday Loves™: Made with love. E...  5.0000  8.000000e+00   \n",
       "5   Introducing Everyday Loves™: Made with love. E...  5.0000  8.000000e+00   \n",
       "6   Laced with love and extra comfort. No cheek pe...  4.8000  5.716612e+35   \n",
       "10  Laced with love and extra comfort. No cheek pe...  4.8000  5.716612e+35   \n",
       "11  Laced with love and extra comfort. No cheek pe...  4.8000  5.716612e+35   \n",
       "12  Laced with love and extra comfort. No cheek pe...  4.8000  5.716612e+35   \n",
       "13  It all started with a boybrief: our original f...  4.7000  1.100000e+01   \n",
       "14  It all started with a boybrief: our original f...  4.7000  1.100000e+01   \n",
       "15  It all started with a boybrief: our original f...  4.7000  1.100000e+01   \n",
       "16  Total cheek! Smooth: No seams. All comfort. Re...  4.0000  1.000000e+01   \n",
       "17  Total cheek! Smooth: No seams. All comfort. Re...  4.0000  1.000000e+01   \n",
       "18  Total cheek! Smooth: No seams. All comfort. Re...  4.0000  1.000000e+01   \n",
       "19  Total cheek! Smooth: No seams. All comfort. Re...  4.0000  1.000000e+01   \n",
       "20  Total cheek! Smooth: No seams. All comfort. Re...  4.0000  1.000000e+01   \n",
       "21  Shine on. A peek of cheek meets peace, love an...  4.1883  5.716612e+35   \n",
       "22  Shine on. A peek of cheek meets peace, love an...  4.1883  5.716612e+35   \n",
       "23  Shine on. A peek of cheek meets peace, love an...  4.1883  5.716612e+35   \n",
       "24  We'll keep this brief. It all started with a b...  3.3000  5.716612e+35   \n",
       "25  We'll keep this brief. It all started with a b...  3.3000  5.716612e+35   \n",
       "26  We'll keep this brief. It all started with a b...  3.3000  5.716612e+35   \n",
       "27  NO PANTS PARTY! Gettin’ stringy with it… style...  4.1883  5.716612e+35   \n",
       "28  Introducing Everyday Loves™: Made with love. E...  4.1883  5.716612e+35   \n",
       "29  Introducing Everyday Loves™: Made with love. E...  4.1883  5.716612e+35   \n",
       "30  Introducing Everyday Loves™: Made with love. E...  4.1883  5.716612e+35   \n",
       "31  New! Hi-leg fit. Your go-to fave with a peek o...  4.5000  2.000000e+00   \n",
       "32  Total cheek! The soft and comfy cotton you lov...  4.1883  5.716612e+35   \n",
       "\n",
       "                                     style_attributes  \\\n",
       "0   [\"Soft lace with the right amount of stretch\",...   \n",
       "1   [\"Soft lace with the right amount of stretch\",...   \n",
       "2   [\"Soft lace with the right amount of stretch\",...   \n",
       "3   [\"Soft lace with the right amount of stretch\",...   \n",
       "4   [\"Soft lace with the right amount of stretch\",...   \n",
       "5   [\"Soft lace with the right amount of stretch\",...   \n",
       "6   [\"Soft lace with the right amount of stretch\",...   \n",
       "10  [\"Soft lace with the right amount of stretch\",...   \n",
       "11  [\"Soft lace with the right amount of stretch\",...   \n",
       "12  [\"Soft lace with the right amount of stretch\",...   \n",
       "13  [\"Comfy, stretchy cotton\", \"Aerie undies: your...   \n",
       "14  [\"Comfy, stretchy cotton\", \"Aerie undies: your...   \n",
       "15  [\"Comfy, stretchy cotton\", \"Aerie undies: your...   \n",
       "16  [\"Smooth seamless fabric\", \"Aerie undies: Your...   \n",
       "17  [\"Smooth seamless fabric\", \"Aerie undies: Your...   \n",
       "18  [\"Smooth seamless fabric\", \"Aerie undies: Your...   \n",
       "19  [\"Smooth seamless fabric\", \"Aerie undies: Your...   \n",
       "20  [\"Smooth seamless fabric\", \"Aerie undies: Your...   \n",
       "21  [\"Smooth shine fabric + Boho lace\", \"Aerie und...   \n",
       "22  [\"Smooth shine fabric + Boho lace\", \"Aerie und...   \n",
       "23  [\"Smooth shine fabric + Boho lace\", \"Aerie und...   \n",
       "24  [\"Comfy, stretchy cotton\", \"Aerie undies: your...   \n",
       "25  [\"Comfy, stretchy cotton\", \"Aerie undies: your...   \n",
       "26  [\"Comfy, stretchy cotton\", \"Aerie undies: your...   \n",
       "27  [\"Comfy, stretchy cotton\", \"Low rise\", \"Total ...   \n",
       "28  [\"Comfy, stretchy cotton\", \"Panties, underwear...   \n",
       "29  [\"Comfy, stretchy cotton\", \"Panties, underwear...   \n",
       "30  [\"Comfy, stretchy cotton\", \"Panties, underwear...   \n",
       "31  [\"Comfy, stretchy cotton\", \"Hits higher on the...   \n",
       "32  [\"Comfy cotton\", \"Low rise\", \"Total cheek!\", \"...   \n",
       "\n",
       "                                  total_sizes  \\\n",
       "0          [\"XS\", \"S\", \"M\", \"L\", \"XL\", \"XXL\"]   \n",
       "1          [\"XS\", \"S\", \"M\", \"L\", \"XL\", \"XXL\"]   \n",
       "2          [\"XS\", \"S\", \"M\", \"L\", \"XL\", \"XXL\"]   \n",
       "3          [\"XS\", \"S\", \"M\", \"L\", \"XL\", \"XXL\"]   \n",
       "4          [\"XS\", \"S\", \"M\", \"L\", \"XL\", \"XXL\"]   \n",
       "5          [\"XS\", \"S\", \"M\", \"L\", \"XL\", \"XXL\"]   \n",
       "6          [\"XS\", \"S\", \"M\", \"L\", \"XL\", \"XXL\"]   \n",
       "10         [\"XS\", \"S\", \"M\", \"L\", \"XL\", \"XXL\"]   \n",
       "11         [\"XS\", \"S\", \"M\", \"L\", \"XL\", \"XXL\"]   \n",
       "12         [\"XS\", \"S\", \"M\", \"L\", \"XL\", \"XXL\"]   \n",
       "13  [\"XXS\", \"XS\", \"S\", \"M\", \"L\", \"XL\", \"XXL\"]   \n",
       "14  [\"XXS\", \"XS\", \"S\", \"M\", \"L\", \"XL\", \"XXL\"]   \n",
       "15  [\"XXS\", \"XS\", \"S\", \"M\", \"L\", \"XL\", \"XXL\"]   \n",
       "16         [\"XS\", \"S\", \"M\", \"L\", \"XL\", \"XXL\"]   \n",
       "17         [\"XS\", \"S\", \"M\", \"L\", \"XL\", \"XXL\"]   \n",
       "18         [\"XS\", \"S\", \"M\", \"L\", \"XL\", \"XXL\"]   \n",
       "19         [\"XS\", \"S\", \"M\", \"L\", \"XL\", \"XXL\"]   \n",
       "20         [\"XS\", \"S\", \"M\", \"L\", \"XL\", \"XXL\"]   \n",
       "21         [\"XS\", \"S\", \"M\", \"L\", \"XL\", \"XXL\"]   \n",
       "22         [\"XS\", \"S\", \"M\", \"L\", \"XL\", \"XXL\"]   \n",
       "23         [\"XS\", \"S\", \"M\", \"L\", \"XL\", \"XXL\"]   \n",
       "24         [\"XS\", \"S\", \"M\", \"L\", \"XL\", \"XXL\"]   \n",
       "25         [\"XS\", \"S\", \"M\", \"L\", \"XL\", \"XXL\"]   \n",
       "26         [\"XS\", \"S\", \"M\", \"L\", \"XL\", \"XXL\"]   \n",
       "27  [\"XXS\", \"XS\", \"S\", \"M\", \"L\", \"XL\", \"XXL\"]   \n",
       "28         [\"XS\", \"S\", \"M\", \"L\", \"XL\", \"XXL\"]   \n",
       "29         [\"XS\", \"S\", \"M\", \"L\", \"XL\", \"XXL\"]   \n",
       "30         [\"XS\", \"S\", \"M\", \"L\", \"XL\", \"XXL\"]   \n",
       "31         [\"XS\", \"S\", \"M\", \"L\", \"XL\", \"XXL\"]   \n",
       "32         [\"XS\", \"S\", \"M\", \"L\", \"XL\", \"XXL\"]   \n",
       "\n",
       "                        available_size          color product_group  \\\n",
       "0   [\"XS\", \"S\", \"M\", \"L\", \"XL\", \"XXL\"]   Rugged Green         panty   \n",
       "1   [\"XS\", \"S\", \"M\", \"L\", \"XL\", \"XXL\"]   Natural Nude         panty   \n",
       "2   [\"XS\", \"S\", \"M\", \"L\", \"XL\", \"XXL\"]     True Black         panty   \n",
       "3   [\"XS\", \"S\", \"M\", \"L\", \"XL\", \"XXL\"]          White         panty   \n",
       "4   [\"XS\", \"S\", \"M\", \"L\", \"XL\", \"XXL\"]     Royal Navy         panty   \n",
       "5   [\"XS\", \"S\", \"M\", \"L\", \"XL\", \"XXL\"]      Slab Gray         panty   \n",
       "6                [\"XS\", \"S\", \"M\", \"L\"]          White         panty   \n",
       "10                    [\"XS\", \"S\", \"M\"]          Stone         panty   \n",
       "11         [\"XS\", \"S\", \"M\", \"L\", \"XL\"]      Deep Plum         panty   \n",
       "12                    [\"XS\", \"S\", \"M\"]     Royal Navy         panty   \n",
       "13  [\"XS\", \"S\", \"M\", \"L\", \"XL\", \"XXL\"]           Buff         panty   \n",
       "14  [\"XS\", \"S\", \"M\", \"L\", \"XL\", \"XXL\"]   Dark Heather         panty   \n",
       "15  [\"XS\", \"S\", \"M\", \"L\", \"XL\", \"XXL\"]     Royal Navy         panty   \n",
       "16  [\"XS\", \"S\", \"M\", \"L\", \"XL\", \"XXL\"]     True Black         panty   \n",
       "17  [\"XS\", \"S\", \"M\", \"L\", \"XL\", \"XXL\"]      Slab Gray         panty   \n",
       "18            [\"XS\", \"S\", \"XL\", \"XXL\"]          Coral         panty   \n",
       "19            [\"XS\", \"S\", \"XL\", \"XXL\"]  Bright Cobalt         panty   \n",
       "20                 [\"XS\", \"XL\", \"XXL\"]      Valentine         panty   \n",
       "21                  [\"XS\", \"S\", \"XXL\"]          Coral        bikini   \n",
       "22                         [\"XS\", \"S\"]     True Black        bikini   \n",
       "23                       [\"XS\", \"XXL\"]  Maroon Lagoon        bikini   \n",
       "24             [\"XS\", \"S\", \"M\", \"XXL\"]     True Black         panty   \n",
       "25                        [\"S\", \"XXL\"]           Buff         panty   \n",
       "26  [\"XS\", \"S\", \"M\", \"L\", \"XL\", \"XXL\"]   Heather Gray         panty   \n",
       "27  [\"XS\", \"S\", \"M\", \"L\", \"XL\", \"XXL\"]   Dark Heather         panty   \n",
       "28         [\"XS\", \"S\", \"M\", \"L\", \"XL\"]   Dark Heather        bikini   \n",
       "29  [\"XS\", \"S\", \"M\", \"L\", \"XL\", \"XXL\"]     True Black        bikini   \n",
       "30  [\"XS\", \"S\", \"M\", \"L\", \"XL\", \"XXL\"]           Buff        bikini   \n",
       "31  [\"XS\", \"S\", \"M\", \"L\", \"XL\", \"XXL\"]     True Black        bikini   \n",
       "32  [\"XS\", \"S\", \"M\", \"L\", \"XL\", \"XXL\"]   Fresh Bright         panty   \n",
       "\n",
       "      color_group  target  \n",
       "0           green       3  \n",
       "1            nude       3  \n",
       "2           black       3  \n",
       "3           white       3  \n",
       "4            blue       3  \n",
       "5            gray       3  \n",
       "6           white       3  \n",
       "10          stone       3  \n",
       "11            red       3  \n",
       "12           blue       3  \n",
       "13           buff       3  \n",
       "14   dark heather       3  \n",
       "15           blue       3  \n",
       "16          black       3  \n",
       "17           gray       3  \n",
       "18          coral       3  \n",
       "19  bright cobalt       3  \n",
       "20      valentine       3  \n",
       "21          coral       0  \n",
       "22          black       0  \n",
       "23            red       0  \n",
       "24          black       3  \n",
       "25           buff       3  \n",
       "26           gray       3  \n",
       "27   dark heather       3  \n",
       "28   dark heather       0  \n",
       "29          black       0  \n",
       "30           buff       0  \n",
       "31          black       0  \n",
       "32   fresh bright       3  "
      ]
     },
     "execution_count": 685,
     "metadata": {},
     "output_type": "execute_result"
    }
   ],
   "source": [
    "df_data.head(30)"
   ]
  },
  {
   "cell_type": "code",
   "execution_count": 724,
   "id": "f55585b3",
   "metadata": {},
   "outputs": [
    {
     "data": {
      "text/html": [
       "<div>\n",
       "<style scoped>\n",
       "    .dataframe tbody tr th:only-of-type {\n",
       "        vertical-align: middle;\n",
       "    }\n",
       "\n",
       "    .dataframe tbody tr th {\n",
       "        vertical-align: top;\n",
       "    }\n",
       "\n",
       "    .dataframe thead th {\n",
       "        text-align: right;\n",
       "    }\n",
       "</style>\n",
       "<table border=\"1\" class=\"dataframe\">\n",
       "  <thead>\n",
       "    <tr style=\"text-align: right;\">\n",
       "      <th></th>\n",
       "      <th>Price</th>\n",
       "      <th>rating</th>\n",
       "      <th>View</th>\n",
       "      <th>Product_group</th>\n",
       "    </tr>\n",
       "  </thead>\n",
       "  <tbody>\n",
       "    <tr>\n",
       "      <th>0</th>\n",
       "      <td>9.5</td>\n",
       "      <td>4.5</td>\n",
       "      <td>2.0</td>\n",
       "      <td>0</td>\n",
       "    </tr>\n",
       "  </tbody>\n",
       "</table>\n",
       "</div>"
      ],
      "text/plain": [
       "   Price  rating  View  Product_group\n",
       "0    9.5     4.5   2.0              0"
      ]
     },
     "execution_count": 724,
     "metadata": {},
     "output_type": "execute_result"
    }
   ],
   "source": [
    "d = {'Price' : [9.5],\n",
    "     'rating' : [4.5],\n",
    "    'View' : [2.0],\n",
    "    'Product_group' : 0} #Panty\n",
    "test_df = pd.DataFrame(data= d)\n",
    "test_df"
   ]
  },
  {
   "cell_type": "code",
   "execution_count": 730,
   "id": "75ed86f4",
   "metadata": {},
   "outputs": [
    {
     "data": {
      "text/html": [
       "<div>\n",
       "<style scoped>\n",
       "    .dataframe tbody tr th:only-of-type {\n",
       "        vertical-align: middle;\n",
       "    }\n",
       "\n",
       "    .dataframe tbody tr th {\n",
       "        vertical-align: top;\n",
       "    }\n",
       "\n",
       "    .dataframe thead th {\n",
       "        text-align: right;\n",
       "    }\n",
       "</style>\n",
       "<table border=\"1\" class=\"dataframe\">\n",
       "  <thead>\n",
       "    <tr style=\"text-align: right;\">\n",
       "      <th></th>\n",
       "      <th>Price</th>\n",
       "      <th>rating</th>\n",
       "      <th>View</th>\n",
       "      <th>Product_group</th>\n",
       "    </tr>\n",
       "  </thead>\n",
       "  <tbody>\n",
       "    <tr>\n",
       "      <th>0</th>\n",
       "      <td>9.5</td>\n",
       "      <td>4.5</td>\n",
       "      <td>2.0</td>\n",
       "      <td>0</td>\n",
       "    </tr>\n",
       "  </tbody>\n",
       "</table>\n",
       "</div>"
      ],
      "text/plain": [
       "   Price  rating  View  Product_group\n",
       "0    9.5     4.5   2.0              0"
      ]
     },
     "execution_count": 730,
     "metadata": {},
     "output_type": "execute_result"
    }
   ],
   "source": [
    "test = test_df.iloc[0:1,:4]\n",
    "test"
   ]
  },
  {
   "cell_type": "code",
   "execution_count": 731,
   "id": "8ac363b8",
   "metadata": {},
   "outputs": [
    {
     "name": "stdout",
     "output_type": "stream",
     "text": [
      "Tipo de ropa 1.5045168201902428\n",
      "Ropa actual 0\n"
     ]
    }
   ],
   "source": [
    "pred = lr.predict(test)\n",
    "print('Tipo de ropa', pred[0])\n",
    "print('Ropa actual', 0)"
   ]
  }
 ],
 "metadata": {
  "kernelspec": {
   "display_name": "Python 3",
   "language": "python",
   "name": "python3"
  },
  "language_info": {
   "codemirror_mode": {
    "name": "ipython",
    "version": 3
   },
   "file_extension": ".py",
   "mimetype": "text/x-python",
   "name": "python",
   "nbconvert_exporter": "python",
   "pygments_lexer": "ipython3",
   "version": "3.8.10"
  }
 },
 "nbformat": 4,
 "nbformat_minor": 5
}
